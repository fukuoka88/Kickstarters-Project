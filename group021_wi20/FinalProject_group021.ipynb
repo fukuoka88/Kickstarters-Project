{
 "cells": [
  {
   "cell_type": "markdown",
   "metadata": {},
   "source": [
    "# COGS 108 - Kickstart to the Success of Kickstarters"
   ]
  },
  {
   "cell_type": "markdown",
   "metadata": {},
   "source": [
    "# Overview"
   ]
  },
  {
   "cell_type": "markdown",
   "metadata": {},
   "source": [
    "The rapid growth of tech startups in the United States stemmed our research question to focus on a staple incubator, Kickstarter, that has catalyzed the success of many startups. Our final project undergoes research that makes comparisons between the success of a tech-based kickstarter company and non-tech kickstarter company. Our analysis focused on gaining insight on the details behind the structuring details of the kickstarter campaign, in terms of prolonged time, goal amount in monetary terms, and starting date. From there, we conducted linear and logistic regression to test whether the significant difference is prevalent in the success of tech and non-tech startups, given the variables we took into account from our insights.  "
   ]
  },
  {
   "cell_type": "markdown",
   "metadata": {},
   "source": [
    "# Names\n",
    "\n",
    "- Gabrielle Avila\n",
    "- Rick Boelen\n",
    "- Kevin Dolay \n",
    "- Leland Long\n",
    "- Samson Qian\n"
   ]
  },
  {
   "cell_type": "markdown",
   "metadata": {},
   "source": [
    "# Group Members IDs\n",
    "\n",
    "- A15364287\n",
    "- A15081823\n",
    "- A13685961\n",
    "- A15524251\n",
    "- A15403917\n"
   ]
  },
  {
   "cell_type": "markdown",
   "metadata": {},
   "source": [
    "# Research Question"
   ]
  },
  {
   "cell_type": "markdown",
   "metadata": {},
   "source": [
    "*Is a kickstarter successful based off of certain features? Can we predict the success of a kickstarter based off of categories such as technology and initial funding? If they overfund the milestone, are they more successful than those who under funded or barely reached the milestones set?*"
   ]
  },
  {
   "cell_type": "markdown",
   "metadata": {},
   "source": [
    "## Background and Prior Work"
   ]
  },
  {
   "cell_type": "markdown",
   "metadata": {},
   "source": [
    "      Kickstarter is a crowdfunding platform created in 2009 that backs up ideas financially to help them succeed. As of January 2020 approximately 17,347,229 have backed a kickstarter project. A professor at the University of Pennsylvania conducted a study called the Warton Crowdfunding Study, to analyze how effective the Kickstarter community is at funding and backing up new projects. The study looked at the economic and social impacts of Kickstarter. The results showed that the majority of projects deliver, and only around 1 in 10 of them will fail. One of the findings in this study showed that the projects on Kickstarter that have less than 1000 dollars backing them up, are most likely to fail. We want to look closer into how the initial funding of a Kickstarter project can affect its overall outcome. (Source 2) \n",
    " \n",
    "    Successful crowdfunding projects all seem to have similar characteristics: a plan, prototypes, references and proof of outside support. In order to get initial funding, investors tend to look for these signals. Kickstarter also has the ability to adjust access to fundings creating more equal opportunities for women in technology. A study showed that women actually have a higher chance of succeeding at crowdfunding than men due to homophily. (Source 1) We want to look closer into if there are other features that impact whether a Kickstarter project becomes successful. \n",
    "    \n",
    "    Another aspect to consider is the amount of projects per category that are successfully funded by Kickstarter. In general, film and videos have the most launched projects, at almost twice that of technology or games. However, it has almost half as much funded dollars as technology and games (source 3). This discrepancy can be inferred to be because independent movies often cost less to fund. In addition, technology’s success rate is significantly lower at 20 percent compared to film’s 40 percent. This implies a high-risk, high-reward mentality when backing technology-based projects on the site and it would be interesting to analyze if higher milestone goals would necessarily increase the success of a project. In other words, is there a correlation between higher funding expectations and success.\n",
    "    \n",
    "    However, when doing our data analysis, we must be conscious of cofactors such as promotional strategies. Many successful Kickstarters had strong marketing campaigns on social media with well established leaders in industry. This will lead to more funding, but at the same time, more experienced leaders may be the cause of the success, not just the funding alone. Additionally, successful campaigns often establish themselves as a brand and differentiate themselves from other Kickstarters (source 4). By having a skilled team that is able to achieve this, it means the project could be more successful because of that.  \n",
    "\n",
    "\n",
    "*References*:\n",
    "\n",
    "1) The Warton Crowdfunding Study: https://crowdfunding.wharton.upenn.edu\n",
    "\n",
    "2) https://www.kickstarter.com/fulfillment\n",
    "\n",
    "3) https://www.nevaehmedia.com/kickstarter-success-statistics-per-popular-categories-infographics/\n",
    "\n",
    "4) https://www.researchgate.net/publication/321439840_Success_Factors_of_Crowdfunding_Projects_on_the_Kickstarter_Platform"
   ]
  },
  {
   "cell_type": "markdown",
   "metadata": {},
   "source": [
    "# Hypothesis\n"
   ]
  },
  {
   "cell_type": "markdown",
   "metadata": {},
   "source": [
    "*We believe that projects in the technology category that receive more funding than their set milestone will be more successful than kickstarters in other categories.*"
   ]
  },
  {
   "cell_type": "markdown",
   "metadata": {},
   "source": [
    "# Datasets"
   ]
  },
  {
   "cell_type": "markdown",
   "metadata": {},
   "source": [
    "**Dataset 1**: \n",
    "- *Name*: ks-projects-201801\n",
    "- *Link*: https://www.kaggle.com/kemical/kickstarter-projects?fbclid=IwAR0oI6W3oBDSbXPGYMDX_Ey9NR4IVdUM2cxKCwoSAXFqALOpg31pamSG9mU\n",
    "- *Observations*: 378661\n",
    "- *Description*: Contains information about kickstarter projects from 2016 to 2018 and attributes that made them successful or not. \n",
    "\n",
    "\n",
    "**Dataset 2**:\n",
    "- *Name*: 400,000 Kickstarter Projects: Predict the likelihood of a successful Kickstarter project\n",
    "- *Link*: https://www.kaggle.com/toshimelonhead/400000-kickstarter-projects\n",
    "- *Observations*: (430938 rows, 30 columns)\n",
    "- *Description*: This dataset was scraped from https://webrobots.io/kickstarter-datasets/ and contains 430938 observations where each observation is an individual kickstarter campaign which is identified by ID based on the ID that kickstarter gave it. Each row is described by variables such as number of backers, description of project, amount of money raised (in USD), launch date in standard format, and location of the project.\n",
    "\n",
    "\n",
    "*How to combine*: We will combine these datasets by ID since it is standardized by kickstarter. If any IDs aren’t in both rows, we drop the row. We then combine the columns of both datasets for each row to form 1 dataset.   \n"
   ]
  },
  {
   "cell_type": "markdown",
   "metadata": {},
   "source": [
    "# Setup\n",
    "These are all the packages that we will use in the notebook, including exploring, preprocessing and modeling the data."
   ]
  },
  {
   "cell_type": "code",
   "execution_count": 2,
   "metadata": {},
   "outputs": [
    {
     "name": "stdout",
     "output_type": "stream",
     "text": [
      "['.DS_Store', 'README.md', 'ProjectProposal.ipynb', '.ipynb_checkpoints', 'ProjectCheckIn.ipynb', 'FinalProject_group021.ipynb', '.git', 'data']\n"
     ]
    }
   ],
   "source": [
    "import numpy as np\n",
    "import pandas as pd\n",
    "import matplotlib.pyplot as plt\n",
    "import seaborn as sns\n",
    "%matplotlib inline\n",
    "sns.set_style(\"whitegrid\")\n",
    "\n",
    "import warnings\n",
    "warnings.filterwarnings(\"ignore\")\n",
    "\n",
    "import patsy\n",
    "import statsmodels.api as sm\n",
    "import scipy.stats as stats\n",
    "from scipy.stats import ttest_ind, chisquare, normaltest\n",
    "\n",
    "import os\n",
    "print(os.listdir(\".\"))"
   ]
  },
  {
   "cell_type": "markdown",
   "metadata": {},
   "source": [
    "# Data Cleaning\n",
    "We will use the dataset we described above with kickstart project names and their success/failure status. This dataset is very messy so we need to clean it before we can fully work with it and model. It contains missing values, outliers, extraneous values, and text data. It is important to understand these features and how they contribute to the outcome of a success/failure of a project."
   ]
  },
  {
   "cell_type": "code",
   "execution_count": 3,
   "metadata": {},
   "outputs": [
    {
     "name": "stdout",
     "output_type": "stream",
     "text": [
      "(378661, 15)\n"
     ]
    },
    {
     "data": {
      "text/html": [
       "<div>\n",
       "<style scoped>\n",
       "    .dataframe tbody tr th:only-of-type {\n",
       "        vertical-align: middle;\n",
       "    }\n",
       "\n",
       "    .dataframe tbody tr th {\n",
       "        vertical-align: top;\n",
       "    }\n",
       "\n",
       "    .dataframe thead th {\n",
       "        text-align: right;\n",
       "    }\n",
       "</style>\n",
       "<table border=\"1\" class=\"dataframe\">\n",
       "  <thead>\n",
       "    <tr style=\"text-align: right;\">\n",
       "      <th></th>\n",
       "      <th>ID</th>\n",
       "      <th>name</th>\n",
       "      <th>category</th>\n",
       "      <th>main_category</th>\n",
       "      <th>currency</th>\n",
       "      <th>deadline</th>\n",
       "      <th>goal</th>\n",
       "      <th>launched</th>\n",
       "      <th>pledged</th>\n",
       "      <th>state</th>\n",
       "      <th>backers</th>\n",
       "      <th>country</th>\n",
       "      <th>usd pledged</th>\n",
       "      <th>usd_pledged_real</th>\n",
       "      <th>usd_goal_real</th>\n",
       "    </tr>\n",
       "  </thead>\n",
       "  <tbody>\n",
       "    <tr>\n",
       "      <th>0</th>\n",
       "      <td>1000002330</td>\n",
       "      <td>The Songs of Adelaide &amp; Abullah</td>\n",
       "      <td>Poetry</td>\n",
       "      <td>Publishing</td>\n",
       "      <td>GBP</td>\n",
       "      <td>2015-10-09</td>\n",
       "      <td>1000.0</td>\n",
       "      <td>2015-08-11 12:12:28</td>\n",
       "      <td>0.0</td>\n",
       "      <td>failed</td>\n",
       "      <td>0</td>\n",
       "      <td>GB</td>\n",
       "      <td>0.0</td>\n",
       "      <td>0.0</td>\n",
       "      <td>1533.95</td>\n",
       "    </tr>\n",
       "    <tr>\n",
       "      <th>1</th>\n",
       "      <td>1000003930</td>\n",
       "      <td>Greeting From Earth: ZGAC Arts Capsule For ET</td>\n",
       "      <td>Narrative Film</td>\n",
       "      <td>Film &amp; Video</td>\n",
       "      <td>USD</td>\n",
       "      <td>2017-11-01</td>\n",
       "      <td>30000.0</td>\n",
       "      <td>2017-09-02 04:43:57</td>\n",
       "      <td>2421.0</td>\n",
       "      <td>failed</td>\n",
       "      <td>15</td>\n",
       "      <td>US</td>\n",
       "      <td>100.0</td>\n",
       "      <td>2421.0</td>\n",
       "      <td>30000.00</td>\n",
       "    </tr>\n",
       "    <tr>\n",
       "      <th>2</th>\n",
       "      <td>1000004038</td>\n",
       "      <td>Where is Hank?</td>\n",
       "      <td>Narrative Film</td>\n",
       "      <td>Film &amp; Video</td>\n",
       "      <td>USD</td>\n",
       "      <td>2013-02-26</td>\n",
       "      <td>45000.0</td>\n",
       "      <td>2013-01-12 00:20:50</td>\n",
       "      <td>220.0</td>\n",
       "      <td>failed</td>\n",
       "      <td>3</td>\n",
       "      <td>US</td>\n",
       "      <td>220.0</td>\n",
       "      <td>220.0</td>\n",
       "      <td>45000.00</td>\n",
       "    </tr>\n",
       "    <tr>\n",
       "      <th>3</th>\n",
       "      <td>1000007540</td>\n",
       "      <td>ToshiCapital Rekordz Needs Help to Complete Album</td>\n",
       "      <td>Music</td>\n",
       "      <td>Music</td>\n",
       "      <td>USD</td>\n",
       "      <td>2012-04-16</td>\n",
       "      <td>5000.0</td>\n",
       "      <td>2012-03-17 03:24:11</td>\n",
       "      <td>1.0</td>\n",
       "      <td>failed</td>\n",
       "      <td>1</td>\n",
       "      <td>US</td>\n",
       "      <td>1.0</td>\n",
       "      <td>1.0</td>\n",
       "      <td>5000.00</td>\n",
       "    </tr>\n",
       "    <tr>\n",
       "      <th>4</th>\n",
       "      <td>1000011046</td>\n",
       "      <td>Community Film Project: The Art of Neighborhoo...</td>\n",
       "      <td>Film &amp; Video</td>\n",
       "      <td>Film &amp; Video</td>\n",
       "      <td>USD</td>\n",
       "      <td>2015-08-29</td>\n",
       "      <td>19500.0</td>\n",
       "      <td>2015-07-04 08:35:03</td>\n",
       "      <td>1283.0</td>\n",
       "      <td>canceled</td>\n",
       "      <td>14</td>\n",
       "      <td>US</td>\n",
       "      <td>1283.0</td>\n",
       "      <td>1283.0</td>\n",
       "      <td>19500.00</td>\n",
       "    </tr>\n",
       "  </tbody>\n",
       "</table>\n",
       "</div>"
      ],
      "text/plain": [
       "           ID                                               name  \\\n",
       "0  1000002330                    The Songs of Adelaide & Abullah   \n",
       "1  1000003930      Greeting From Earth: ZGAC Arts Capsule For ET   \n",
       "2  1000004038                                     Where is Hank?   \n",
       "3  1000007540  ToshiCapital Rekordz Needs Help to Complete Album   \n",
       "4  1000011046  Community Film Project: The Art of Neighborhoo...   \n",
       "\n",
       "         category main_category currency    deadline     goal  \\\n",
       "0          Poetry    Publishing      GBP  2015-10-09   1000.0   \n",
       "1  Narrative Film  Film & Video      USD  2017-11-01  30000.0   \n",
       "2  Narrative Film  Film & Video      USD  2013-02-26  45000.0   \n",
       "3           Music         Music      USD  2012-04-16   5000.0   \n",
       "4    Film & Video  Film & Video      USD  2015-08-29  19500.0   \n",
       "\n",
       "              launched  pledged     state  backers country  usd pledged  \\\n",
       "0  2015-08-11 12:12:28      0.0    failed        0      GB          0.0   \n",
       "1  2017-09-02 04:43:57   2421.0    failed       15      US        100.0   \n",
       "2  2013-01-12 00:20:50    220.0    failed        3      US        220.0   \n",
       "3  2012-03-17 03:24:11      1.0    failed        1      US          1.0   \n",
       "4  2015-07-04 08:35:03   1283.0  canceled       14      US       1283.0   \n",
       "\n",
       "   usd_pledged_real  usd_goal_real  \n",
       "0               0.0        1533.95  \n",
       "1            2421.0       30000.00  \n",
       "2             220.0       45000.00  \n",
       "3               1.0        5000.00  \n",
       "4            1283.0       19500.00  "
      ]
     },
     "execution_count": 3,
     "metadata": {},
     "output_type": "execute_result"
    }
   ],
   "source": [
    "df_2018 = pd.read_csv(\"./data/ks-projects-201801.csv\")\n",
    "print(df_2018.shape)\n",
    "df_2018.head()"
   ]
  },
  {
   "cell_type": "code",
   "execution_count": 12,
   "metadata": {},
   "outputs": [
    {
     "data": {
      "text/html": [
       "<div>\n",
       "<style scoped>\n",
       "    .dataframe tbody tr th:only-of-type {\n",
       "        vertical-align: middle;\n",
       "    }\n",
       "\n",
       "    .dataframe tbody tr th {\n",
       "        vertical-align: top;\n",
       "    }\n",
       "\n",
       "    .dataframe thead th {\n",
       "        text-align: right;\n",
       "    }\n",
       "</style>\n",
       "<table border=\"1\" class=\"dataframe\">\n",
       "  <thead>\n",
       "    <tr style=\"text-align: right;\">\n",
       "      <th></th>\n",
       "      <th>ID</th>\n",
       "      <th>goal</th>\n",
       "      <th>pledged</th>\n",
       "      <th>backers</th>\n",
       "      <th>usd pledged</th>\n",
       "      <th>usd_pledged_real</th>\n",
       "      <th>usd_goal_real</th>\n",
       "    </tr>\n",
       "  </thead>\n",
       "  <tbody>\n",
       "    <tr>\n",
       "      <th>count</th>\n",
       "      <td>3.786610e+05</td>\n",
       "      <td>3.786610e+05</td>\n",
       "      <td>3.786610e+05</td>\n",
       "      <td>378661.000000</td>\n",
       "      <td>3.786610e+05</td>\n",
       "      <td>3.786610e+05</td>\n",
       "      <td>3.786610e+05</td>\n",
       "    </tr>\n",
       "    <tr>\n",
       "      <th>mean</th>\n",
       "      <td>1.074731e+09</td>\n",
       "      <td>4.908079e+04</td>\n",
       "      <td>9.682979e+03</td>\n",
       "      <td>105.617476</td>\n",
       "      <td>6.970127e+03</td>\n",
       "      <td>9.058924e+03</td>\n",
       "      <td>4.545440e+04</td>\n",
       "    </tr>\n",
       "    <tr>\n",
       "      <th>std</th>\n",
       "      <td>6.190862e+08</td>\n",
       "      <td>1.183391e+06</td>\n",
       "      <td>9.563601e+04</td>\n",
       "      <td>907.185035</td>\n",
       "      <td>7.824727e+04</td>\n",
       "      <td>9.097334e+04</td>\n",
       "      <td>1.152950e+06</td>\n",
       "    </tr>\n",
       "    <tr>\n",
       "      <th>min</th>\n",
       "      <td>5.971000e+03</td>\n",
       "      <td>1.000000e-02</td>\n",
       "      <td>0.000000e+00</td>\n",
       "      <td>0.000000</td>\n",
       "      <td>0.000000e+00</td>\n",
       "      <td>0.000000e+00</td>\n",
       "      <td>1.000000e-02</td>\n",
       "    </tr>\n",
       "    <tr>\n",
       "      <th>25%</th>\n",
       "      <td>5.382635e+08</td>\n",
       "      <td>2.000000e+03</td>\n",
       "      <td>3.000000e+01</td>\n",
       "      <td>2.000000</td>\n",
       "      <td>1.900000e+01</td>\n",
       "      <td>3.100000e+01</td>\n",
       "      <td>2.000000e+03</td>\n",
       "    </tr>\n",
       "    <tr>\n",
       "      <th>50%</th>\n",
       "      <td>1.075276e+09</td>\n",
       "      <td>5.200000e+03</td>\n",
       "      <td>6.200000e+02</td>\n",
       "      <td>12.000000</td>\n",
       "      <td>3.947200e+02</td>\n",
       "      <td>6.243300e+02</td>\n",
       "      <td>5.500000e+03</td>\n",
       "    </tr>\n",
       "    <tr>\n",
       "      <th>75%</th>\n",
       "      <td>1.610149e+09</td>\n",
       "      <td>1.600000e+04</td>\n",
       "      <td>4.076000e+03</td>\n",
       "      <td>56.000000</td>\n",
       "      <td>3.000000e+03</td>\n",
       "      <td>4.050000e+03</td>\n",
       "      <td>1.550000e+04</td>\n",
       "    </tr>\n",
       "    <tr>\n",
       "      <th>max</th>\n",
       "      <td>2.147476e+09</td>\n",
       "      <td>1.000000e+08</td>\n",
       "      <td>2.033899e+07</td>\n",
       "      <td>219382.000000</td>\n",
       "      <td>2.033899e+07</td>\n",
       "      <td>2.033899e+07</td>\n",
       "      <td>1.663614e+08</td>\n",
       "    </tr>\n",
       "  </tbody>\n",
       "</table>\n",
       "</div>"
      ],
      "text/plain": [
       "                 ID          goal       pledged        backers   usd pledged  \\\n",
       "count  3.786610e+05  3.786610e+05  3.786610e+05  378661.000000  3.786610e+05   \n",
       "mean   1.074731e+09  4.908079e+04  9.682979e+03     105.617476  6.970127e+03   \n",
       "std    6.190862e+08  1.183391e+06  9.563601e+04     907.185035  7.824727e+04   \n",
       "min    5.971000e+03  1.000000e-02  0.000000e+00       0.000000  0.000000e+00   \n",
       "25%    5.382635e+08  2.000000e+03  3.000000e+01       2.000000  1.900000e+01   \n",
       "50%    1.075276e+09  5.200000e+03  6.200000e+02      12.000000  3.947200e+02   \n",
       "75%    1.610149e+09  1.600000e+04  4.076000e+03      56.000000  3.000000e+03   \n",
       "max    2.147476e+09  1.000000e+08  2.033899e+07  219382.000000  2.033899e+07   \n",
       "\n",
       "       usd_pledged_real  usd_goal_real  \n",
       "count      3.786610e+05   3.786610e+05  \n",
       "mean       9.058924e+03   4.545440e+04  \n",
       "std        9.097334e+04   1.152950e+06  \n",
       "min        0.000000e+00   1.000000e-02  \n",
       "25%        3.100000e+01   2.000000e+03  \n",
       "50%        6.243300e+02   5.500000e+03  \n",
       "75%        4.050000e+03   1.550000e+04  \n",
       "max        2.033899e+07   1.663614e+08  "
      ]
     },
     "execution_count": 12,
     "metadata": {},
     "output_type": "execute_result"
    }
   ],
   "source": [
    "df_2018.describe()"
   ]
  },
  {
   "cell_type": "markdown",
   "metadata": {},
   "source": [
    "### Missing Values & Imputation\n",
    "This data contains many missing values we need to address. It is important to understand which columns contain missing values to better understand the data and how to impute it. This is important for a better representation of the data and being able to train models to make predictions. We will impute the missing values with appropriate values."
   ]
  },
  {
   "cell_type": "code",
   "execution_count": 4,
   "metadata": {},
   "outputs": [
    {
     "data": {
      "text/plain": [
       "ID                     0\n",
       "name                   4\n",
       "category               0\n",
       "main_category          0\n",
       "currency               0\n",
       "deadline               0\n",
       "goal                   0\n",
       "launched               0\n",
       "pledged                0\n",
       "state                  0\n",
       "backers                0\n",
       "country                0\n",
       "usd pledged         3797\n",
       "usd_pledged_real       0\n",
       "usd_goal_real          0\n",
       "dtype: int64"
      ]
     },
     "execution_count": 4,
     "metadata": {},
     "output_type": "execute_result"
    }
   ],
   "source": [
    "# Check null values in first dataset, df_2018 \n",
    "df_2018.isna().sum()"
   ]
  },
  {
   "cell_type": "markdown",
   "metadata": {},
   "source": [
    "It appears that only two columns in the data have missing values, *name* and *usd pledged* which we will analyze how to impute values. *usd pledged* contains the most null values, but seems like an important feature to predicting whether a kickstart will be successful or not."
   ]
  },
  {
   "cell_type": "code",
   "execution_count": 7,
   "metadata": {},
   "outputs": [
    {
     "data": {
      "text/plain": [
       "Text(0.5, 1.0, 'Distribution of USD Pledged')"
      ]
     },
     "execution_count": 7,
     "metadata": {},
     "output_type": "execute_result"
    },
    {
     "data": {
      "image/png": "[encoded data removed]",
      "text/plain": [
       "<Figure size 432x288 with 1 Axes>"
      ]
     },
     "metadata": {
      "needs_background": "light"
     },
     "output_type": "display_data"
    }
   ],
   "source": [
    "sns.boxplot(x=\"usd pledged\", data=df_2018)\n",
    "plt.title(\"Distribution of USD Pledged\")"
   ]
  },
  {
   "cell_type": "markdown",
   "metadata": {},
   "source": [
    "The distribution of the amount pledged looks heavily skewed with very large outliers. However, we shouldn't simply omit these outliers since they may be associated with the projects that are more successful. Because of this heavily skewed distribution, imputing with the mean would bias the data since it will be larger with the outlier. Therefore, median is a more accurate value to impute by, as it will be more representative of the data as a whole."
   ]
  },
  {
   "cell_type": "code",
   "execution_count": 8,
   "metadata": {},
   "outputs": [],
   "source": [
    "df_2018[\"usd pledged\"] = df_2018[\"usd pledged\"].fillna(df_2018[\"usd pledged\"].median())"
   ]
  },
  {
   "cell_type": "markdown",
   "metadata": {},
   "source": [
    "The *name* column only has a couple of missing values, so we will impute it with a placeholder of \"No Name\", since we shouldn't simply omit these projects as they may contain important information."
   ]
  },
  {
   "cell_type": "code",
   "execution_count": 9,
   "metadata": {},
   "outputs": [],
   "source": [
    "df_2018[\"name\"] = df_2018[\"name\"].fillna(\"No name\")"
   ]
  },
  {
   "cell_type": "code",
   "execution_count": 10,
   "metadata": {},
   "outputs": [
    {
     "data": {
      "text/plain": [
       "ID                  0\n",
       "name                0\n",
       "category            0\n",
       "main_category       0\n",
       "currency            0\n",
       "deadline            0\n",
       "goal                0\n",
       "launched            0\n",
       "pledged             0\n",
       "state               0\n",
       "backers             0\n",
       "country             0\n",
       "usd pledged         0\n",
       "usd_pledged_real    0\n",
       "usd_goal_real       0\n",
       "dtype: int64"
      ]
     },
     "execution_count": 10,
     "metadata": {},
     "output_type": "execute_result"
    }
   ],
   "source": [
    "# Check number of missing values again\n",
    "df_2018.isna().sum()"
   ]
  },
  {
   "cell_type": "markdown",
   "metadata": {},
   "source": [
    "We will categorize failed and canceled projects as the same value, since projects are usually canceled due to a significant factor like insufficient funding, etc."
   ]
  },
  {
   "cell_type": "markdown",
   "metadata": {},
   "source": [
    "### Label Encoding\n",
    "There are some nominal data values that are strings, but should be represented with a numerical value. This is useful for models to take in these values as inputs or predict them as outputs. To do this, we should encode groups in columns with a value."
   ]
  },
  {
   "cell_type": "markdown",
   "metadata": {},
   "source": [
    "We will consider failed and canceled projects to be the same, since if a project was canceled then there was likely a major factor causing it to shutdown, such as insufficient funding. Therefore, we can encode failed/canceled projects with a value of 0, and successful projects with 1."
   ]
  },
  {
   "cell_type": "code",
   "execution_count": 11,
   "metadata": {},
   "outputs": [],
   "source": [
    "df_2018[\"state\"] = df_2018[\"state\"].replace({\"failed\": 0, \"canceled\": 0, \"successful\": 1}).values"
   ]
  },
  {
   "cell_type": "markdown",
   "metadata": {},
   "source": [
    "We set out to discover the importance of a kickstart's category to its success. We believed that projects in the technology category will be more successful. In order to determine if this is the case, projects in the technology category will be encoded with a 1, and all other categories with a 0."
   ]
  },
  {
   "cell_type": "code",
   "execution_count": 13,
   "metadata": {},
   "outputs": [
    {
     "data": {
      "text/plain": [
       "Film & Video    63585\n",
       "Music           51918\n",
       "Publishing      39874\n",
       "Games           35231\n",
       "Technology      32569\n",
       "Design          30070\n",
       "Art             28153\n",
       "Food            24602\n",
       "Fashion         22816\n",
       "Theater         10913\n",
       "Comics          10819\n",
       "Photography     10779\n",
       "Crafts           8809\n",
       "Journalism       4755\n",
       "Dance            3768\n",
       "Name: main_category, dtype: int64"
      ]
     },
     "execution_count": 13,
     "metadata": {},
     "output_type": "execute_result"
    }
   ],
   "source": [
    "# Distribution of main category of projects\n",
    "df_2018[\"main_category\"].value_counts()"
   ]
  },
  {
   "cell_type": "code",
   "execution_count": 14,
   "metadata": {},
   "outputs": [],
   "source": [
    "def tech(category): \n",
    "    \"\"\"\n",
    "    Function used to transform main_category column to combine games and technology \n",
    "    \n",
    "    :param category: project category\n",
    "    :return: 1 or 0\n",
    "    \"\"\"\n",
    "    cat = category.lower()\n",
    "    if cat == \"technology\": \n",
    "        return 1 \n",
    "    else: \n",
    "        return 0 "
   ]
  },
  {
   "cell_type": "code",
   "execution_count": 15,
   "metadata": {},
   "outputs": [],
   "source": [
    "df_2018[\"main_category\"] = df_2018[\"main_category\"].apply(tech).values"
   ]
  },
  {
   "cell_type": "markdown",
   "metadata": {},
   "source": [
    "### Datetime Representation\n",
    "The dates and times of each project launch is an important factor that should be taken into consideration. Originially, the dates were represented as strings which isn't very useful and hard to work with. Pandas as a datetime object that we will convert each date to."
   ]
  },
  {
   "cell_type": "code",
   "execution_count": 16,
   "metadata": {},
   "outputs": [],
   "source": [
    "# Create a year and month column using launch date\n",
    "\n",
    "# First convert launch date to datetime object \n",
    "df_2018[\"launched\"] = pd.to_datetime(df_2018['launched'])\n",
    "\n",
    "# Create a new column with just month of launch date\n",
    "df_2018[\"month_launch\"] = pd.DatetimeIndex(df_2018[\"launched\"]).month\n",
    "\n",
    "# Create a new column with just year of launch date\n",
    "df_2018[\"year_launch\"] = pd.DatetimeIndex(df_2018[\"launched\"]).year"
   ]
  },
  {
   "cell_type": "markdown",
   "metadata": {},
   "source": [
    "The deadline of a project is important as well, so we will do the same for each value in the *deadline* column."
   ]
  },
  {
   "cell_type": "code",
   "execution_count": 18,
   "metadata": {},
   "outputs": [],
   "source": [
    "# Create a year and month column using deadline date\n",
    "\n",
    "# First convert deadline to datetime object \n",
    "df_2018[\"deadline\"] = pd.to_datetime(df_2018[\"deadline\"])\n",
    "\n",
    "#Create a new column with just month of deadline\n",
    "df_2018[\"month_deadline\"] = pd.DatetimeIndex(df_2018[\"deadline\"]).month\n",
    "\n",
    "#Create a new column with just year of deadline\n",
    "df_2018[\"year_deadline\"] = pd.DatetimeIndex(df_2018[\"deadline\"]).year"
   ]
  },
  {
   "cell_type": "markdown",
   "metadata": {},
   "source": [
    "Having both launch and deadline date as datetime objects is very useful since we can work with them easily. The duration of a project could also be a crucial factor in its success, so we will create a new column that calculates how long each project lasted. This is called **feature engineering** and is useful for improving our model performance."
   ]
  },
  {
   "cell_type": "code",
   "execution_count": 19,
   "metadata": {},
   "outputs": [],
   "source": [
    "# Create a column of project duration\n",
    "df_2018[\"duration\"] = df_2018[\"deadline\"] - df_2018[\"launched\"]"
   ]
  },
  {
   "cell_type": "markdown",
   "metadata": {},
   "source": [
    "Great! Now we can inspect our cleaned data to see what we've accomplished. The data should now be in a useable format to do further exploratory data analysis and modeling afterward."
   ]
  },
  {
   "cell_type": "code",
   "execution_count": 20,
   "metadata": {},
   "outputs": [
    {
     "data": {
      "text/html": [
       "<div>\n",
       "<style scoped>\n",
       "    .dataframe tbody tr th:only-of-type {\n",
       "        vertical-align: middle;\n",
       "    }\n",
       "\n",
       "    .dataframe tbody tr th {\n",
       "        vertical-align: top;\n",
       "    }\n",
       "\n",
       "    .dataframe thead th {\n",
       "        text-align: right;\n",
       "    }\n",
       "</style>\n",
       "<table border=\"1\" class=\"dataframe\">\n",
       "  <thead>\n",
       "    <tr style=\"text-align: right;\">\n",
       "      <th></th>\n",
       "      <th>ID</th>\n",
       "      <th>name</th>\n",
       "      <th>category</th>\n",
       "      <th>main_category</th>\n",
       "      <th>currency</th>\n",
       "      <th>deadline</th>\n",
       "      <th>goal</th>\n",
       "      <th>launched</th>\n",
       "      <th>pledged</th>\n",
       "      <th>state</th>\n",
       "      <th>backers</th>\n",
       "      <th>country</th>\n",
       "      <th>usd pledged</th>\n",
       "      <th>usd_pledged_real</th>\n",
       "      <th>usd_goal_real</th>\n",
       "      <th>month_launch</th>\n",
       "      <th>year_launch</th>\n",
       "      <th>month_deadline</th>\n",
       "      <th>year_deadline</th>\n",
       "      <th>duration</th>\n",
       "    </tr>\n",
       "  </thead>\n",
       "  <tbody>\n",
       "    <tr>\n",
       "      <th>0</th>\n",
       "      <td>1000002330</td>\n",
       "      <td>The Songs of Adelaide &amp; Abullah</td>\n",
       "      <td>Poetry</td>\n",
       "      <td>0</td>\n",
       "      <td>GBP</td>\n",
       "      <td>2015-10-09</td>\n",
       "      <td>1000.0</td>\n",
       "      <td>2015-08-11 12:12:28</td>\n",
       "      <td>0.0</td>\n",
       "      <td>0</td>\n",
       "      <td>0</td>\n",
       "      <td>GB</td>\n",
       "      <td>0.0</td>\n",
       "      <td>0.0</td>\n",
       "      <td>1533.95</td>\n",
       "      <td>8</td>\n",
       "      <td>2015</td>\n",
       "      <td>10</td>\n",
       "      <td>2015</td>\n",
       "      <td>58 days 11:47:32</td>\n",
       "    </tr>\n",
       "    <tr>\n",
       "      <th>1</th>\n",
       "      <td>1000003930</td>\n",
       "      <td>Greeting From Earth: ZGAC Arts Capsule For ET</td>\n",
       "      <td>Narrative Film</td>\n",
       "      <td>0</td>\n",
       "      <td>USD</td>\n",
       "      <td>2017-11-01</td>\n",
       "      <td>30000.0</td>\n",
       "      <td>2017-09-02 04:43:57</td>\n",
       "      <td>2421.0</td>\n",
       "      <td>0</td>\n",
       "      <td>15</td>\n",
       "      <td>US</td>\n",
       "      <td>100.0</td>\n",
       "      <td>2421.0</td>\n",
       "      <td>30000.00</td>\n",
       "      <td>9</td>\n",
       "      <td>2017</td>\n",
       "      <td>11</td>\n",
       "      <td>2017</td>\n",
       "      <td>59 days 19:16:03</td>\n",
       "    </tr>\n",
       "    <tr>\n",
       "      <th>2</th>\n",
       "      <td>1000004038</td>\n",
       "      <td>Where is Hank?</td>\n",
       "      <td>Narrative Film</td>\n",
       "      <td>0</td>\n",
       "      <td>USD</td>\n",
       "      <td>2013-02-26</td>\n",
       "      <td>45000.0</td>\n",
       "      <td>2013-01-12 00:20:50</td>\n",
       "      <td>220.0</td>\n",
       "      <td>0</td>\n",
       "      <td>3</td>\n",
       "      <td>US</td>\n",
       "      <td>220.0</td>\n",
       "      <td>220.0</td>\n",
       "      <td>45000.00</td>\n",
       "      <td>1</td>\n",
       "      <td>2013</td>\n",
       "      <td>2</td>\n",
       "      <td>2013</td>\n",
       "      <td>44 days 23:39:10</td>\n",
       "    </tr>\n",
       "    <tr>\n",
       "      <th>3</th>\n",
       "      <td>1000007540</td>\n",
       "      <td>ToshiCapital Rekordz Needs Help to Complete Album</td>\n",
       "      <td>Music</td>\n",
       "      <td>0</td>\n",
       "      <td>USD</td>\n",
       "      <td>2012-04-16</td>\n",
       "      <td>5000.0</td>\n",
       "      <td>2012-03-17 03:24:11</td>\n",
       "      <td>1.0</td>\n",
       "      <td>0</td>\n",
       "      <td>1</td>\n",
       "      <td>US</td>\n",
       "      <td>1.0</td>\n",
       "      <td>1.0</td>\n",
       "      <td>5000.00</td>\n",
       "      <td>3</td>\n",
       "      <td>2012</td>\n",
       "      <td>4</td>\n",
       "      <td>2012</td>\n",
       "      <td>29 days 20:35:49</td>\n",
       "    </tr>\n",
       "    <tr>\n",
       "      <th>4</th>\n",
       "      <td>1000011046</td>\n",
       "      <td>Community Film Project: The Art of Neighborhoo...</td>\n",
       "      <td>Film &amp; Video</td>\n",
       "      <td>0</td>\n",
       "      <td>USD</td>\n",
       "      <td>2015-08-29</td>\n",
       "      <td>19500.0</td>\n",
       "      <td>2015-07-04 08:35:03</td>\n",
       "      <td>1283.0</td>\n",
       "      <td>0</td>\n",
       "      <td>14</td>\n",
       "      <td>US</td>\n",
       "      <td>1283.0</td>\n",
       "      <td>1283.0</td>\n",
       "      <td>19500.00</td>\n",
       "      <td>7</td>\n",
       "      <td>2015</td>\n",
       "      <td>8</td>\n",
       "      <td>2015</td>\n",
       "      <td>55 days 15:24:57</td>\n",
       "    </tr>\n",
       "  </tbody>\n",
       "</table>\n",
       "</div>"
      ],
      "text/plain": [
       "           ID                                               name  \\\n",
       "0  1000002330                    The Songs of Adelaide & Abullah   \n",
       "1  1000003930      Greeting From Earth: ZGAC Arts Capsule For ET   \n",
       "2  1000004038                                     Where is Hank?   \n",
       "3  1000007540  ToshiCapital Rekordz Needs Help to Complete Album   \n",
       "4  1000011046  Community Film Project: The Art of Neighborhoo...   \n",
       "\n",
       "         category  main_category currency   deadline     goal  \\\n",
       "0          Poetry              0      GBP 2015-10-09   1000.0   \n",
       "1  Narrative Film              0      USD 2017-11-01  30000.0   \n",
       "2  Narrative Film              0      USD 2013-02-26  45000.0   \n",
       "3           Music              0      USD 2012-04-16   5000.0   \n",
       "4    Film & Video              0      USD 2015-08-29  19500.0   \n",
       "\n",
       "             launched  pledged state  backers country  usd pledged  \\\n",
       "0 2015-08-11 12:12:28      0.0     0        0      GB          0.0   \n",
       "1 2017-09-02 04:43:57   2421.0     0       15      US        100.0   \n",
       "2 2013-01-12 00:20:50    220.0     0        3      US        220.0   \n",
       "3 2012-03-17 03:24:11      1.0     0        1      US          1.0   \n",
       "4 2015-07-04 08:35:03   1283.0     0       14      US       1283.0   \n",
       "\n",
       "   usd_pledged_real  usd_goal_real  month_launch  year_launch  month_deadline  \\\n",
       "0               0.0        1533.95             8         2015              10   \n",
       "1            2421.0       30000.00             9         2017              11   \n",
       "2             220.0       45000.00             1         2013               2   \n",
       "3               1.0        5000.00             3         2012               4   \n",
       "4            1283.0       19500.00             7         2015               8   \n",
       "\n",
       "   year_deadline         duration  \n",
       "0           2015 58 days 11:47:32  \n",
       "1           2017 59 days 19:16:03  \n",
       "2           2013 44 days 23:39:10  \n",
       "3           2012 29 days 20:35:49  \n",
       "4           2015 55 days 15:24:57  "
      ]
     },
     "execution_count": 20,
     "metadata": {},
     "output_type": "execute_result"
    }
   ],
   "source": [
    "df_2018.head()"
   ]
  },
  {
   "cell_type": "markdown",
   "metadata": {},
   "source": [
    "### Feature Selection\n",
    "Now that we're done cleaning some of the columns, we don't need to use all of them for our analysis. The data contains a lot of useless information, like the currency for example, since we already have a value in USD for amount pledged. We only care about a few specific details of each project that are important to predicting whether it will be successful or not. Each feature should bring new and relevant information for each instance. Therefore, we will filter the columns to only those we need."
   ]
  },
  {
   "cell_type": "code",
   "execution_count": 23,
   "metadata": {},
   "outputs": [
    {
     "name": "stdout",
     "output_type": "stream",
     "text": [
      "(378661, 12)\n",
      "Columns:  ['ID', 'name', 'main_category', 'deadline', 'goal', 'launched', 'month_launch', 'year_launch', 'month_deadline', 'year_deadline', 'duration', 'state']\n"
     ]
    },
    {
     "data": {
      "text/html": [
       "<div>\n",
       "<style scoped>\n",
       "    .dataframe tbody tr th:only-of-type {\n",
       "        vertical-align: middle;\n",
       "    }\n",
       "\n",
       "    .dataframe tbody tr th {\n",
       "        vertical-align: top;\n",
       "    }\n",
       "\n",
       "    .dataframe thead th {\n",
       "        text-align: right;\n",
       "    }\n",
       "</style>\n",
       "<table border=\"1\" class=\"dataframe\">\n",
       "  <thead>\n",
       "    <tr style=\"text-align: right;\">\n",
       "      <th></th>\n",
       "      <th>ID</th>\n",
       "      <th>name</th>\n",
       "      <th>main_category</th>\n",
       "      <th>deadline</th>\n",
       "      <th>goal</th>\n",
       "      <th>launched</th>\n",
       "      <th>month_launch</th>\n",
       "      <th>year_launch</th>\n",
       "      <th>month_deadline</th>\n",
       "      <th>year_deadline</th>\n",
       "      <th>duration</th>\n",
       "      <th>state</th>\n",
       "    </tr>\n",
       "  </thead>\n",
       "  <tbody>\n",
       "    <tr>\n",
       "      <th>0</th>\n",
       "      <td>1000002330</td>\n",
       "      <td>The Songs of Adelaide &amp; Abullah</td>\n",
       "      <td>0</td>\n",
       "      <td>2015-10-09</td>\n",
       "      <td>1000.0</td>\n",
       "      <td>2015-08-11 12:12:28</td>\n",
       "      <td>8</td>\n",
       "      <td>2015</td>\n",
       "      <td>10</td>\n",
       "      <td>2015</td>\n",
       "      <td>58 days 11:47:32</td>\n",
       "      <td>0</td>\n",
       "    </tr>\n",
       "    <tr>\n",
       "      <th>1</th>\n",
       "      <td>1000003930</td>\n",
       "      <td>Greeting From Earth: ZGAC Arts Capsule For ET</td>\n",
       "      <td>0</td>\n",
       "      <td>2017-11-01</td>\n",
       "      <td>30000.0</td>\n",
       "      <td>2017-09-02 04:43:57</td>\n",
       "      <td>9</td>\n",
       "      <td>2017</td>\n",
       "      <td>11</td>\n",
       "      <td>2017</td>\n",
       "      <td>59 days 19:16:03</td>\n",
       "      <td>0</td>\n",
       "    </tr>\n",
       "    <tr>\n",
       "      <th>2</th>\n",
       "      <td>1000004038</td>\n",
       "      <td>Where is Hank?</td>\n",
       "      <td>0</td>\n",
       "      <td>2013-02-26</td>\n",
       "      <td>45000.0</td>\n",
       "      <td>2013-01-12 00:20:50</td>\n",
       "      <td>1</td>\n",
       "      <td>2013</td>\n",
       "      <td>2</td>\n",
       "      <td>2013</td>\n",
       "      <td>44 days 23:39:10</td>\n",
       "      <td>0</td>\n",
       "    </tr>\n",
       "    <tr>\n",
       "      <th>3</th>\n",
       "      <td>1000007540</td>\n",
       "      <td>ToshiCapital Rekordz Needs Help to Complete Album</td>\n",
       "      <td>0</td>\n",
       "      <td>2012-04-16</td>\n",
       "      <td>5000.0</td>\n",
       "      <td>2012-03-17 03:24:11</td>\n",
       "      <td>3</td>\n",
       "      <td>2012</td>\n",
       "      <td>4</td>\n",
       "      <td>2012</td>\n",
       "      <td>29 days 20:35:49</td>\n",
       "      <td>0</td>\n",
       "    </tr>\n",
       "    <tr>\n",
       "      <th>4</th>\n",
       "      <td>1000011046</td>\n",
       "      <td>Community Film Project: The Art of Neighborhoo...</td>\n",
       "      <td>0</td>\n",
       "      <td>2015-08-29</td>\n",
       "      <td>19500.0</td>\n",
       "      <td>2015-07-04 08:35:03</td>\n",
       "      <td>7</td>\n",
       "      <td>2015</td>\n",
       "      <td>8</td>\n",
       "      <td>2015</td>\n",
       "      <td>55 days 15:24:57</td>\n",
       "      <td>0</td>\n",
       "    </tr>\n",
       "  </tbody>\n",
       "</table>\n",
       "</div>"
      ],
      "text/plain": [
       "           ID                                               name  \\\n",
       "0  1000002330                    The Songs of Adelaide & Abullah   \n",
       "1  1000003930      Greeting From Earth: ZGAC Arts Capsule For ET   \n",
       "2  1000004038                                     Where is Hank?   \n",
       "3  1000007540  ToshiCapital Rekordz Needs Help to Complete Album   \n",
       "4  1000011046  Community Film Project: The Art of Neighborhoo...   \n",
       "\n",
       "   main_category   deadline     goal            launched  month_launch  \\\n",
       "0              0 2015-10-09   1000.0 2015-08-11 12:12:28             8   \n",
       "1              0 2017-11-01  30000.0 2017-09-02 04:43:57             9   \n",
       "2              0 2013-02-26  45000.0 2013-01-12 00:20:50             1   \n",
       "3              0 2012-04-16   5000.0 2012-03-17 03:24:11             3   \n",
       "4              0 2015-08-29  19500.0 2015-07-04 08:35:03             7   \n",
       "\n",
       "   year_launch  month_deadline  year_deadline         duration state  \n",
       "0         2015              10           2015 58 days 11:47:32     0  \n",
       "1         2017              11           2017 59 days 19:16:03     0  \n",
       "2         2013               2           2013 44 days 23:39:10     0  \n",
       "3         2012               4           2012 29 days 20:35:49     0  \n",
       "4         2015               8           2015 55 days 15:24:57     0  "
      ]
     },
     "execution_count": 23,
     "metadata": {},
     "output_type": "execute_result"
    }
   ],
   "source": [
    "df_2018 = df_2018[['ID', 'name', 'main_category','deadline', 'goal', 'launched', 'month_launch', \n",
    "                         'year_launch', 'month_deadline', 'year_deadline', 'duration', 'state']]\n",
    "\n",
    "print(df_2018.shape)\n",
    "print(\"Columns: \", list(df_2018.columns))\n",
    "df_2018.head()"
   ]
  },
  {
   "cell_type": "markdown",
   "metadata": {},
   "source": [
    "## Dataset 2"
   ]
  },
  {
   "cell_type": "code",
   "execution_count": 18,
   "metadata": {},
   "outputs": [
    {
     "name": "stdout",
     "output_type": "stream",
     "text": [
      "(430938, 30)\n"
     ]
    },
    {
     "data": {
      "text/html": [
       "<div>\n",
       "<style scoped>\n",
       "    .dataframe tbody tr th:only-of-type {\n",
       "        vertical-align: middle;\n",
       "    }\n",
       "\n",
       "    .dataframe tbody tr th {\n",
       "        vertical-align: top;\n",
       "    }\n",
       "\n",
       "    .dataframe thead th {\n",
       "        text-align: right;\n",
       "    }\n",
       "</style>\n",
       "<table border=\"1\" class=\"dataframe\">\n",
       "  <thead>\n",
       "    <tr style=\"text-align: right;\">\n",
       "      <th></th>\n",
       "      <th>Unnamed: 0</th>\n",
       "      <th>id</th>\n",
       "      <th>backers_count</th>\n",
       "      <th>blurb</th>\n",
       "      <th>currency</th>\n",
       "      <th>goal</th>\n",
       "      <th>launched_at</th>\n",
       "      <th>deadline</th>\n",
       "      <th>location.country</th>\n",
       "      <th>name</th>\n",
       "      <th>...</th>\n",
       "      <th>days_to_deadline</th>\n",
       "      <th>goal_USD</th>\n",
       "      <th>category_name</th>\n",
       "      <th>category_slug</th>\n",
       "      <th>blurb_length</th>\n",
       "      <th>location_type</th>\n",
       "      <th>location_country</th>\n",
       "      <th>location_state</th>\n",
       "      <th>location_displayable_name</th>\n",
       "      <th>binary_state</th>\n",
       "    </tr>\n",
       "  </thead>\n",
       "  <tbody>\n",
       "    <tr>\n",
       "      <td>0</td>\n",
       "      <td>0</td>\n",
       "      <td>857125548</td>\n",
       "      <td>1</td>\n",
       "      <td>Exploring paint and its place in a digital world.</td>\n",
       "      <td>USD</td>\n",
       "      <td>2000.0</td>\n",
       "      <td>2015-03-19 22:34:57</td>\n",
       "      <td>2015-04-30 23:12:00</td>\n",
       "      <td>US</td>\n",
       "      <td>Remix</td>\n",
       "      <td>...</td>\n",
       "      <td>42</td>\n",
       "      <td>2000.0000</td>\n",
       "      <td>Digital Art</td>\n",
       "      <td>art</td>\n",
       "      <td>9</td>\n",
       "      <td>Town</td>\n",
       "      <td>US</td>\n",
       "      <td>NY</td>\n",
       "      <td>New York, NY</td>\n",
       "      <td>failed</td>\n",
       "    </tr>\n",
       "    <tr>\n",
       "      <td>1</td>\n",
       "      <td>1</td>\n",
       "      <td>1038659700</td>\n",
       "      <td>2</td>\n",
       "      <td>Mike Fassio wants a side-by-side photo of me a...</td>\n",
       "      <td>USD</td>\n",
       "      <td>10.0</td>\n",
       "      <td>2014-07-17 01:55:07</td>\n",
       "      <td>2014-07-27 01:55:07</td>\n",
       "      <td>US</td>\n",
       "      <td>Photo of Grant and Hazel eating cake with bare...</td>\n",
       "      <td>...</td>\n",
       "      <td>10</td>\n",
       "      <td>10.0000</td>\n",
       "      <td>Digital Art</td>\n",
       "      <td>art</td>\n",
       "      <td>21</td>\n",
       "      <td>Town</td>\n",
       "      <td>US</td>\n",
       "      <td>WA</td>\n",
       "      <td>Seattle, WA</td>\n",
       "      <td>failed</td>\n",
       "    </tr>\n",
       "    <tr>\n",
       "      <td>2</td>\n",
       "      <td>2</td>\n",
       "      <td>1238331911</td>\n",
       "      <td>0</td>\n",
       "      <td>I need your help to get a nice graphics tablet...</td>\n",
       "      <td>USD</td>\n",
       "      <td>900.0</td>\n",
       "      <td>2014-07-30 16:29:13</td>\n",
       "      <td>2014-08-29 16:29:13</td>\n",
       "      <td>US</td>\n",
       "      <td>Minecraft Digital Art/Animations</td>\n",
       "      <td>...</td>\n",
       "      <td>30</td>\n",
       "      <td>900.0000</td>\n",
       "      <td>Digital Art</td>\n",
       "      <td>art</td>\n",
       "      <td>12</td>\n",
       "      <td>Town</td>\n",
       "      <td>US</td>\n",
       "      <td>VA</td>\n",
       "      <td>Moneta, VA</td>\n",
       "      <td>failed</td>\n",
       "    </tr>\n",
       "    <tr>\n",
       "      <td>3</td>\n",
       "      <td>3</td>\n",
       "      <td>189217262</td>\n",
       "      <td>0</td>\n",
       "      <td>I want to create a Nature Photograph Series of...</td>\n",
       "      <td>USD</td>\n",
       "      <td>900.0</td>\n",
       "      <td>2015-05-11 16:09:11</td>\n",
       "      <td>2015-05-31 16:09:11</td>\n",
       "      <td>US</td>\n",
       "      <td>Sacramento Nature Photograph Series</td>\n",
       "      <td>...</td>\n",
       "      <td>20</td>\n",
       "      <td>900.0000</td>\n",
       "      <td>Digital Art</td>\n",
       "      <td>art</td>\n",
       "      <td>17</td>\n",
       "      <td>Town</td>\n",
       "      <td>US</td>\n",
       "      <td>CA</td>\n",
       "      <td>Sacramento, CA</td>\n",
       "      <td>failed</td>\n",
       "    </tr>\n",
       "    <tr>\n",
       "      <td>4</td>\n",
       "      <td>4</td>\n",
       "      <td>1260075071</td>\n",
       "      <td>1</td>\n",
       "      <td>I want to bring colour to the world in my own ...</td>\n",
       "      <td>GBP</td>\n",
       "      <td>15000.0</td>\n",
       "      <td>2015-02-06 21:52:02</td>\n",
       "      <td>2015-03-08 20:52:02</td>\n",
       "      <td>GB</td>\n",
       "      <td>North Africa art project - my dream</td>\n",
       "      <td>...</td>\n",
       "      <td>30</td>\n",
       "      <td>22801.6545</td>\n",
       "      <td>Digital Art</td>\n",
       "      <td>art</td>\n",
       "      <td>26</td>\n",
       "      <td>County</td>\n",
       "      <td>GB</td>\n",
       "      <td>England</td>\n",
       "      <td>Essex, UK</td>\n",
       "      <td>failed</td>\n",
       "    </tr>\n",
       "  </tbody>\n",
       "</table>\n",
       "<p>5 rows × 30 columns</p>\n",
       "</div>"
      ],
      "text/plain": [
       "   Unnamed: 0          id  backers_count  \\\n",
       "0           0   857125548              1   \n",
       "1           1  1038659700              2   \n",
       "2           2  1238331911              0   \n",
       "3           3   189217262              0   \n",
       "4           4  1260075071              1   \n",
       "\n",
       "                                               blurb currency     goal  \\\n",
       "0  Exploring paint and its place in a digital world.      USD   2000.0   \n",
       "1  Mike Fassio wants a side-by-side photo of me a...      USD     10.0   \n",
       "2  I need your help to get a nice graphics tablet...      USD    900.0   \n",
       "3  I want to create a Nature Photograph Series of...      USD    900.0   \n",
       "4  I want to bring colour to the world in my own ...      GBP  15000.0   \n",
       "\n",
       "           launched_at             deadline location.country  \\\n",
       "0  2015-03-19 22:34:57  2015-04-30 23:12:00               US   \n",
       "1  2014-07-17 01:55:07  2014-07-27 01:55:07               US   \n",
       "2  2014-07-30 16:29:13  2014-08-29 16:29:13               US   \n",
       "3  2015-05-11 16:09:11  2015-05-31 16:09:11               US   \n",
       "4  2015-02-06 21:52:02  2015-03-08 20:52:02               GB   \n",
       "\n",
       "                                                name  ...  days_to_deadline  \\\n",
       "0                                              Remix  ...                42   \n",
       "1  Photo of Grant and Hazel eating cake with bare...  ...                10   \n",
       "2                   Minecraft Digital Art/Animations  ...                30   \n",
       "3                Sacramento Nature Photograph Series  ...                20   \n",
       "4                North Africa art project - my dream  ...                30   \n",
       "\n",
       "     goal_USD  category_name  category_slug  blurb_length location_type  \\\n",
       "0   2000.0000    Digital Art            art             9          Town   \n",
       "1     10.0000    Digital Art            art            21          Town   \n",
       "2    900.0000    Digital Art            art            12          Town   \n",
       "3    900.0000    Digital Art            art            17          Town   \n",
       "4  22801.6545    Digital Art            art            26        County   \n",
       "\n",
       "   location_country  location_state  location_displayable_name  binary_state  \n",
       "0                US              NY               New York, NY        failed  \n",
       "1                US              WA                Seattle, WA        failed  \n",
       "2                US              VA                 Moneta, VA        failed  \n",
       "3                US              CA             Sacramento, CA        failed  \n",
       "4                GB         England                  Essex, UK        failed  \n",
       "\n",
       "[5 rows x 30 columns]"
      ]
     },
     "execution_count": 18,
     "metadata": {},
     "output_type": "execute_result"
    }
   ],
   "source": [
    "kickstarter = pd.read_csv('./data/kickstarter.csv')\n",
    "print(kickstarter.shape)\n",
    "kickstarter.head()"
   ]
  },
  {
   "cell_type": "code",
   "execution_count": 19,
   "metadata": {},
   "outputs": [
    {
     "data": {
      "text/plain": [
       "Index(['Unnamed: 0', 'id', 'backers_count', 'blurb', 'currency', 'goal',\n",
       "       'launched_at', 'deadline', 'location.country', 'name', 'usd_pledged',\n",
       "       'slug', 'spotlight', 'staff_pick', 'static_usd_rate', 'state', 'year',\n",
       "       'month', 'day', 'hour', 'days_to_deadline', 'goal_USD', 'category_name',\n",
       "       'category_slug', 'blurb_length', 'location_type', 'location_country',\n",
       "       'location_state', 'location_displayable_name', 'binary_state'],\n",
       "      dtype='object')"
      ]
     },
     "execution_count": 19,
     "metadata": {},
     "output_type": "execute_result"
    }
   ],
   "source": [
    "kickstarter.columns"
   ]
  },
  {
   "cell_type": "code",
   "execution_count": 20,
   "metadata": {},
   "outputs": [
    {
     "data": {
      "text/plain": [
       "film & video    57156\n",
       "music           51178\n",
       "games           48388\n",
       "publishing      47175\n",
       "technology      46682\n",
       "art             34682\n",
       "design          31808\n",
       "fashion         30792\n",
       "food            26194\n",
       "comics          16270\n",
       "photography     10404\n",
       "theater          9927\n",
       "crafts           9459\n",
       "journalism       6650\n",
       "dance            4173\n",
       "Name: category_slug, dtype: int64"
      ]
     },
     "execution_count": 20,
     "metadata": {},
     "output_type": "execute_result"
    }
   ],
   "source": [
    "kickstarter['category_slug'].value_counts()"
   ]
  },
  {
   "cell_type": "code",
   "execution_count": 21,
   "metadata": {},
   "outputs": [],
   "source": [
    "#Only need certain columns \n",
    "kickstarter_clean = kickstarter[['id', 'name','category_slug','deadline', 'goal', \n",
    "                                 'launched_at', 'month', 'year', 'state']]"
   ]
  },
  {
   "cell_type": "code",
   "execution_count": 22,
   "metadata": {},
   "outputs": [],
   "source": [
    "#Rename columns and create deadline month and year \n",
    "kickstarter_clean.columns = ['ID', 'name', 'main_category','deadline', 'goal', 'launched', 'month_launch', 'year_launch', 'state']"
   ]
  },
  {
   "cell_type": "code",
   "execution_count": 23,
   "metadata": {},
   "outputs": [
    {
     "data": {
      "text/html": [
       "<div>\n",
       "<style scoped>\n",
       "    .dataframe tbody tr th:only-of-type {\n",
       "        vertical-align: middle;\n",
       "    }\n",
       "\n",
       "    .dataframe tbody tr th {\n",
       "        vertical-align: top;\n",
       "    }\n",
       "\n",
       "    .dataframe thead th {\n",
       "        text-align: right;\n",
       "    }\n",
       "</style>\n",
       "<table border=\"1\" class=\"dataframe\">\n",
       "  <thead>\n",
       "    <tr style=\"text-align: right;\">\n",
       "      <th></th>\n",
       "      <th>ID</th>\n",
       "      <th>name</th>\n",
       "      <th>main_category</th>\n",
       "      <th>deadline</th>\n",
       "      <th>goal</th>\n",
       "      <th>launched</th>\n",
       "      <th>month_launch</th>\n",
       "      <th>year_launch</th>\n",
       "      <th>state</th>\n",
       "    </tr>\n",
       "  </thead>\n",
       "  <tbody>\n",
       "    <tr>\n",
       "      <td>0</td>\n",
       "      <td>857125548</td>\n",
       "      <td>Remix</td>\n",
       "      <td>art</td>\n",
       "      <td>2015-04-30 23:12:00</td>\n",
       "      <td>2000.0</td>\n",
       "      <td>2015-03-19 22:34:57</td>\n",
       "      <td>3</td>\n",
       "      <td>2015</td>\n",
       "      <td>failed</td>\n",
       "    </tr>\n",
       "    <tr>\n",
       "      <td>1</td>\n",
       "      <td>1038659700</td>\n",
       "      <td>Photo of Grant and Hazel eating cake with bare...</td>\n",
       "      <td>art</td>\n",
       "      <td>2014-07-27 01:55:07</td>\n",
       "      <td>10.0</td>\n",
       "      <td>2014-07-17 01:55:07</td>\n",
       "      <td>7</td>\n",
       "      <td>2014</td>\n",
       "      <td>failed</td>\n",
       "    </tr>\n",
       "  </tbody>\n",
       "</table>\n",
       "</div>"
      ],
      "text/plain": [
       "           ID                                               name  \\\n",
       "0   857125548                                              Remix   \n",
       "1  1038659700  Photo of Grant and Hazel eating cake with bare...   \n",
       "\n",
       "  main_category             deadline    goal             launched  \\\n",
       "0           art  2015-04-30 23:12:00  2000.0  2015-03-19 22:34:57   \n",
       "1           art  2014-07-27 01:55:07    10.0  2014-07-17 01:55:07   \n",
       "\n",
       "   month_launch  year_launch   state  \n",
       "0             3         2015  failed  \n",
       "1             7         2014  failed  "
      ]
     },
     "execution_count": 23,
     "metadata": {},
     "output_type": "execute_result"
    }
   ],
   "source": [
    "kickstarter_clean.head(2)"
   ]
  },
  {
   "cell_type": "code",
   "execution_count": 24,
   "metadata": {},
   "outputs": [],
   "source": [
    "#Create the month and year deadline columns \n",
    "\n",
    "#First convert to datetime object \n",
    "kickstarter_clean['deadline'] = pd.to_datetime(kickstarter_clean['deadline'])\n",
    "\n",
    "#Create a new column with just month \n",
    "kickstarter_clean['month_deadline'] = pd.DatetimeIndex(kickstarter_clean['deadline']).month\n",
    "\n",
    "#Create a new column with just year \n",
    "kickstarter_clean['year_deadline'] = pd.DatetimeIndex(kickstarter_clean['deadline']).year"
   ]
  },
  {
   "cell_type": "code",
   "execution_count": 25,
   "metadata": {},
   "outputs": [
    {
     "name": "stdout",
     "output_type": "stream",
     "text": [
      "{'successful', 'suspended', 'failed', 'live', 'canceled'}\n",
      "{0, 1}\n"
     ]
    }
   ],
   "source": [
    "print(set(kickstarter_clean[\"state\"]))\n",
    "\n",
    "kickstarter_clean[\"state\"] = kickstarter_clean[\"state\"].replace({\"canceled\": 0, \"failed\": 0, \"live\": 1, \"successful\": 1, \"suspended\": 1})\n",
    "\n",
    "print(set(kickstarter_clean[\"state\"]))"
   ]
  },
  {
   "cell_type": "code",
   "execution_count": 26,
   "metadata": {},
   "outputs": [
    {
     "data": {
      "text/html": [
       "<div>\n",
       "<style scoped>\n",
       "    .dataframe tbody tr th:only-of-type {\n",
       "        vertical-align: middle;\n",
       "    }\n",
       "\n",
       "    .dataframe tbody tr th {\n",
       "        vertical-align: top;\n",
       "    }\n",
       "\n",
       "    .dataframe thead th {\n",
       "        text-align: right;\n",
       "    }\n",
       "</style>\n",
       "<table border=\"1\" class=\"dataframe\">\n",
       "  <thead>\n",
       "    <tr style=\"text-align: right;\">\n",
       "      <th></th>\n",
       "      <th>ID</th>\n",
       "      <th>name</th>\n",
       "      <th>main_category</th>\n",
       "      <th>deadline</th>\n",
       "      <th>goal</th>\n",
       "      <th>launched</th>\n",
       "      <th>month_launch</th>\n",
       "      <th>year_launch</th>\n",
       "      <th>state</th>\n",
       "      <th>month_deadline</th>\n",
       "      <th>year_deadline</th>\n",
       "    </tr>\n",
       "  </thead>\n",
       "  <tbody>\n",
       "    <tr>\n",
       "      <td>0</td>\n",
       "      <td>857125548</td>\n",
       "      <td>Remix</td>\n",
       "      <td>art</td>\n",
       "      <td>2015-04-30 23:12:00</td>\n",
       "      <td>2000.0</td>\n",
       "      <td>2015-03-19 22:34:57</td>\n",
       "      <td>3</td>\n",
       "      <td>2015</td>\n",
       "      <td>0</td>\n",
       "      <td>4</td>\n",
       "      <td>2015</td>\n",
       "    </tr>\n",
       "    <tr>\n",
       "      <td>1</td>\n",
       "      <td>1038659700</td>\n",
       "      <td>Photo of Grant and Hazel eating cake with bare...</td>\n",
       "      <td>art</td>\n",
       "      <td>2014-07-27 01:55:07</td>\n",
       "      <td>10.0</td>\n",
       "      <td>2014-07-17 01:55:07</td>\n",
       "      <td>7</td>\n",
       "      <td>2014</td>\n",
       "      <td>0</td>\n",
       "      <td>7</td>\n",
       "      <td>2014</td>\n",
       "    </tr>\n",
       "  </tbody>\n",
       "</table>\n",
       "</div>"
      ],
      "text/plain": [
       "           ID                                               name  \\\n",
       "0   857125548                                              Remix   \n",
       "1  1038659700  Photo of Grant and Hazel eating cake with bare...   \n",
       "\n",
       "  main_category            deadline    goal             launched  \\\n",
       "0           art 2015-04-30 23:12:00  2000.0  2015-03-19 22:34:57   \n",
       "1           art 2014-07-27 01:55:07    10.0  2014-07-17 01:55:07   \n",
       "\n",
       "   month_launch  year_launch  state  month_deadline  year_deadline  \n",
       "0             3         2015      0               4           2015  \n",
       "1             7         2014      0               7           2014  "
      ]
     },
     "execution_count": 26,
     "metadata": {},
     "output_type": "execute_result"
    }
   ],
   "source": [
    "kickstarter_clean.head(2)"
   ]
  },
  {
   "cell_type": "code",
   "execution_count": 27,
   "metadata": {},
   "outputs": [],
   "source": [
    "#Fix the main_category column to be numerical  \n",
    "kickstarter_clean['main_category'] = kickstarter_clean['main_category'].apply(tech).values"
   ]
  },
  {
   "cell_type": "code",
   "execution_count": 28,
   "metadata": {},
   "outputs": [
    {
     "data": {
      "text/plain": [
       "0    384256\n",
       "1     46682\n",
       "Name: main_category, dtype: int64"
      ]
     },
     "execution_count": 28,
     "metadata": {},
     "output_type": "execute_result"
    }
   ],
   "source": [
    "kickstarter_clean['main_category'].value_counts() "
   ]
  },
  {
   "cell_type": "code",
   "execution_count": 29,
   "metadata": {},
   "outputs": [
    {
     "data": {
      "text/html": [
       "<div>\n",
       "<style scoped>\n",
       "    .dataframe tbody tr th:only-of-type {\n",
       "        vertical-align: middle;\n",
       "    }\n",
       "\n",
       "    .dataframe tbody tr th {\n",
       "        vertical-align: top;\n",
       "    }\n",
       "\n",
       "    .dataframe thead th {\n",
       "        text-align: right;\n",
       "    }\n",
       "</style>\n",
       "<table border=\"1\" class=\"dataframe\">\n",
       "  <thead>\n",
       "    <tr style=\"text-align: right;\">\n",
       "      <th></th>\n",
       "      <th>ID</th>\n",
       "      <th>name</th>\n",
       "      <th>main_category</th>\n",
       "      <th>deadline</th>\n",
       "      <th>goal</th>\n",
       "      <th>launched</th>\n",
       "      <th>month_launch</th>\n",
       "      <th>year_launch</th>\n",
       "      <th>state</th>\n",
       "      <th>month_deadline</th>\n",
       "      <th>year_deadline</th>\n",
       "    </tr>\n",
       "  </thead>\n",
       "  <tbody>\n",
       "    <tr>\n",
       "      <td>0</td>\n",
       "      <td>857125548</td>\n",
       "      <td>Remix</td>\n",
       "      <td>0</td>\n",
       "      <td>2015-04-30 23:12:00</td>\n",
       "      <td>2000.0</td>\n",
       "      <td>2015-03-19 22:34:57</td>\n",
       "      <td>3</td>\n",
       "      <td>2015</td>\n",
       "      <td>0</td>\n",
       "      <td>4</td>\n",
       "      <td>2015</td>\n",
       "    </tr>\n",
       "    <tr>\n",
       "      <td>1</td>\n",
       "      <td>1038659700</td>\n",
       "      <td>Photo of Grant and Hazel eating cake with bare...</td>\n",
       "      <td>0</td>\n",
       "      <td>2014-07-27 01:55:07</td>\n",
       "      <td>10.0</td>\n",
       "      <td>2014-07-17 01:55:07</td>\n",
       "      <td>7</td>\n",
       "      <td>2014</td>\n",
       "      <td>0</td>\n",
       "      <td>7</td>\n",
       "      <td>2014</td>\n",
       "    </tr>\n",
       "  </tbody>\n",
       "</table>\n",
       "</div>"
      ],
      "text/plain": [
       "           ID                                               name  \\\n",
       "0   857125548                                              Remix   \n",
       "1  1038659700  Photo of Grant and Hazel eating cake with bare...   \n",
       "\n",
       "   main_category            deadline    goal             launched  \\\n",
       "0              0 2015-04-30 23:12:00  2000.0  2015-03-19 22:34:57   \n",
       "1              0 2014-07-27 01:55:07    10.0  2014-07-17 01:55:07   \n",
       "\n",
       "   month_launch  year_launch  state  month_deadline  year_deadline  \n",
       "0             3         2015      0               4           2015  \n",
       "1             7         2014      0               7           2014  "
      ]
     },
     "execution_count": 29,
     "metadata": {},
     "output_type": "execute_result"
    }
   ],
   "source": [
    "kickstarter_clean.head(2)"
   ]
  },
  {
   "cell_type": "code",
   "execution_count": 30,
   "metadata": {},
   "outputs": [
    {
     "data": {
      "text/plain": [
       "(726303, 12)"
      ]
     },
     "execution_count": 30,
     "metadata": {},
     "output_type": "execute_result"
    }
   ],
   "source": [
    "#Combining the two datasets kickstarter_clean and final_df_2018\n",
    "frames = [kickstarter_clean, final_df_2018]\n",
    "df = pd.concat(frames)\n",
    "df.shape"
   ]
  },
  {
   "cell_type": "code",
   "execution_count": 31,
   "metadata": {},
   "outputs": [],
   "source": [
    "#drop duplicates based off of ID column \n",
    "df_final = df.drop_duplicates(subset='ID', keep=\"first\")"
   ]
  },
  {
   "cell_type": "code",
   "execution_count": 32,
   "metadata": {},
   "outputs": [],
   "source": [
    "df_final['state'] = df_final['state'].replace({'undefined': 0, 'live': 1, 'suspended': 1})"
   ]
  },
  {
   "cell_type": "code",
   "execution_count": 33,
   "metadata": {},
   "outputs": [
    {
     "data": {
      "text/plain": [
       "(407662, 12)"
      ]
     },
     "execution_count": 33,
     "metadata": {},
     "output_type": "execute_result"
    }
   ],
   "source": [
    "df_final.shape"
   ]
  },
  {
   "cell_type": "code",
   "execution_count": 34,
   "metadata": {},
   "outputs": [
    {
     "data": {
      "text/html": [
       "<div>\n",
       "<style scoped>\n",
       "    .dataframe tbody tr th:only-of-type {\n",
       "        vertical-align: middle;\n",
       "    }\n",
       "\n",
       "    .dataframe tbody tr th {\n",
       "        vertical-align: top;\n",
       "    }\n",
       "\n",
       "    .dataframe thead th {\n",
       "        text-align: right;\n",
       "    }\n",
       "</style>\n",
       "<table border=\"1\" class=\"dataframe\">\n",
       "  <thead>\n",
       "    <tr style=\"text-align: right;\">\n",
       "      <th></th>\n",
       "      <th>ID</th>\n",
       "      <th>deadline</th>\n",
       "      <th>duration</th>\n",
       "      <th>goal</th>\n",
       "      <th>launched</th>\n",
       "      <th>main_category</th>\n",
       "      <th>month_deadline</th>\n",
       "      <th>month_launch</th>\n",
       "      <th>name</th>\n",
       "      <th>state</th>\n",
       "      <th>year_deadline</th>\n",
       "      <th>year_launch</th>\n",
       "    </tr>\n",
       "  </thead>\n",
       "  <tbody>\n",
       "    <tr>\n",
       "      <td>0</td>\n",
       "      <td>857125548</td>\n",
       "      <td>2015-04-30 23:12:00</td>\n",
       "      <td>NaT</td>\n",
       "      <td>2000.0</td>\n",
       "      <td>2015-03-19 22:34:57</td>\n",
       "      <td>0</td>\n",
       "      <td>4</td>\n",
       "      <td>3</td>\n",
       "      <td>Remix</td>\n",
       "      <td>0.0</td>\n",
       "      <td>2015</td>\n",
       "      <td>2015</td>\n",
       "    </tr>\n",
       "    <tr>\n",
       "      <td>1</td>\n",
       "      <td>1038659700</td>\n",
       "      <td>2014-07-27 01:55:07</td>\n",
       "      <td>NaT</td>\n",
       "      <td>10.0</td>\n",
       "      <td>2014-07-17 01:55:07</td>\n",
       "      <td>0</td>\n",
       "      <td>7</td>\n",
       "      <td>7</td>\n",
       "      <td>Photo of Grant and Hazel eating cake with bare...</td>\n",
       "      <td>0.0</td>\n",
       "      <td>2014</td>\n",
       "      <td>2014</td>\n",
       "    </tr>\n",
       "    <tr>\n",
       "      <td>2</td>\n",
       "      <td>1238331911</td>\n",
       "      <td>2014-08-29 16:29:13</td>\n",
       "      <td>NaT</td>\n",
       "      <td>900.0</td>\n",
       "      <td>2014-07-30 16:29:13</td>\n",
       "      <td>0</td>\n",
       "      <td>8</td>\n",
       "      <td>7</td>\n",
       "      <td>Minecraft Digital Art/Animations</td>\n",
       "      <td>0.0</td>\n",
       "      <td>2014</td>\n",
       "      <td>2014</td>\n",
       "    </tr>\n",
       "    <tr>\n",
       "      <td>3</td>\n",
       "      <td>189217262</td>\n",
       "      <td>2015-05-31 16:09:11</td>\n",
       "      <td>NaT</td>\n",
       "      <td>900.0</td>\n",
       "      <td>2015-05-11 16:09:11</td>\n",
       "      <td>0</td>\n",
       "      <td>5</td>\n",
       "      <td>5</td>\n",
       "      <td>Sacramento Nature Photograph Series</td>\n",
       "      <td>0.0</td>\n",
       "      <td>2015</td>\n",
       "      <td>2015</td>\n",
       "    </tr>\n",
       "    <tr>\n",
       "      <td>4</td>\n",
       "      <td>1260075071</td>\n",
       "      <td>2015-03-08 20:52:02</td>\n",
       "      <td>NaT</td>\n",
       "      <td>15000.0</td>\n",
       "      <td>2015-02-06 21:52:02</td>\n",
       "      <td>0</td>\n",
       "      <td>3</td>\n",
       "      <td>2</td>\n",
       "      <td>North Africa art project - my dream</td>\n",
       "      <td>0.0</td>\n",
       "      <td>2015</td>\n",
       "      <td>2015</td>\n",
       "    </tr>\n",
       "  </tbody>\n",
       "</table>\n",
       "</div>"
      ],
      "text/plain": [
       "           ID            deadline duration     goal             launched  \\\n",
       "0   857125548 2015-04-30 23:12:00      NaT   2000.0  2015-03-19 22:34:57   \n",
       "1  1038659700 2014-07-27 01:55:07      NaT     10.0  2014-07-17 01:55:07   \n",
       "2  1238331911 2014-08-29 16:29:13      NaT    900.0  2014-07-30 16:29:13   \n",
       "3   189217262 2015-05-31 16:09:11      NaT    900.0  2015-05-11 16:09:11   \n",
       "4  1260075071 2015-03-08 20:52:02      NaT  15000.0  2015-02-06 21:52:02   \n",
       "\n",
       "   main_category  month_deadline  month_launch  \\\n",
       "0              0               4             3   \n",
       "1              0               7             7   \n",
       "2              0               8             7   \n",
       "3              0               5             5   \n",
       "4              0               3             2   \n",
       "\n",
       "                                                name  state  year_deadline  \\\n",
       "0                                              Remix    0.0           2015   \n",
       "1  Photo of Grant and Hazel eating cake with bare...    0.0           2014   \n",
       "2                   Minecraft Digital Art/Animations    0.0           2014   \n",
       "3                Sacramento Nature Photograph Series    0.0           2015   \n",
       "4                North Africa art project - my dream    0.0           2015   \n",
       "\n",
       "   year_launch  \n",
       "0         2015  \n",
       "1         2014  \n",
       "2         2014  \n",
       "3         2015  \n",
       "4         2015  "
      ]
     },
     "execution_count": 34,
     "metadata": {},
     "output_type": "execute_result"
    }
   ],
   "source": [
    "df_final.head()"
   ]
  },
  {
   "cell_type": "markdown",
   "metadata": {},
   "source": [
    "# Data Analysis & Results"
   ]
  },
  {
   "cell_type": "markdown",
   "metadata": {},
   "source": [
    "Include cells that describe the steps in your data analysis!!!!!!!!!!"
   ]
  },
  {
   "cell_type": "code",
   "execution_count": 35,
   "metadata": {},
   "outputs": [
    {
     "data": {
      "text/html": [
       "<div>\n",
       "<style scoped>\n",
       "    .dataframe tbody tr th:only-of-type {\n",
       "        vertical-align: middle;\n",
       "    }\n",
       "\n",
       "    .dataframe tbody tr th {\n",
       "        vertical-align: top;\n",
       "    }\n",
       "\n",
       "    .dataframe thead th {\n",
       "        text-align: right;\n",
       "    }\n",
       "</style>\n",
       "<table border=\"1\" class=\"dataframe\">\n",
       "  <thead>\n",
       "    <tr style=\"text-align: right;\">\n",
       "      <th></th>\n",
       "      <th>ID</th>\n",
       "      <th>name</th>\n",
       "      <th>main_category</th>\n",
       "      <th>deadline</th>\n",
       "      <th>goal</th>\n",
       "      <th>launched</th>\n",
       "      <th>month_launch</th>\n",
       "      <th>year_launch</th>\n",
       "      <th>month_deadline</th>\n",
       "      <th>year_deadline</th>\n",
       "      <th>duration</th>\n",
       "      <th>state</th>\n",
       "    </tr>\n",
       "  </thead>\n",
       "  <tbody>\n",
       "    <tr>\n",
       "      <td>1</td>\n",
       "      <td>1000003930</td>\n",
       "      <td>Greeting From Earth: ZGAC Arts Capsule For ET</td>\n",
       "      <td>0</td>\n",
       "      <td>2017-11-01</td>\n",
       "      <td>30000.0</td>\n",
       "      <td>2017-09-02 04:43:57</td>\n",
       "      <td>9</td>\n",
       "      <td>2017</td>\n",
       "      <td>11</td>\n",
       "      <td>2017</td>\n",
       "      <td>59 days 19:16:03</td>\n",
       "      <td>0</td>\n",
       "    </tr>\n",
       "  </tbody>\n",
       "</table>\n",
       "</div>"
      ],
      "text/plain": [
       "           ID                                           name  main_category  \\\n",
       "1  1000003930  Greeting From Earth: ZGAC Arts Capsule For ET              0   \n",
       "\n",
       "    deadline     goal            launched  month_launch  year_launch  \\\n",
       "1 2017-11-01  30000.0 2017-09-02 04:43:57             9         2017   \n",
       "\n",
       "   month_deadline  year_deadline         duration state  \n",
       "1              11           2017 59 days 19:16:03     0  "
      ]
     },
     "execution_count": 35,
     "metadata": {},
     "output_type": "execute_result"
    }
   ],
   "source": [
    "final_df_2018.head(1)"
   ]
  },
  {
   "cell_type": "markdown",
   "metadata": {},
   "source": [
    "### Descriptive Analysis \n",
    "In this section, we will perform descriptive analysis on the features in the data and describe their meaning and context within the overall dataset. This will help us understand which features are more important in predicting a project's success or failure."
   ]
  },
  {
   "cell_type": "code",
   "execution_count": 36,
   "metadata": {},
   "outputs": [
    {
     "data": {
      "text/plain": [
       "<matplotlib.axes._subplots.AxesSubplot at 0x19145123898>"
      ]
     },
     "execution_count": 36,
     "metadata": {},
     "output_type": "execute_result"
    },
    {
     "data": {
      "image/png": "[encoded data removed]",
      "text/plain": [
       "<Figure size 432x288 with 1 Axes>"
      ]
     },
     "metadata": {
      "needs_background": "light"
     },
     "output_type": "display_data"
    }
   ],
   "source": [
    "sns.distplot(final_df_2018[\"goal\"], norm_hist=True)"
   ]
  },
  {
   "cell_type": "markdown",
   "metadata": {},
   "source": [
    "There appears to be outliers in the project goal feature, which is how much money they want to raise! A reason may be that some projects require significantly more funding than others based on their project details. This may be explained by the project category, which we will explore later. For now, we need to find and handle the outliers."
   ]
  },
  {
   "cell_type": "code",
   "execution_count": 37,
   "metadata": {},
   "outputs": [
    {
     "data": {
      "text/plain": [
       "<matplotlib.axes._subplots.AxesSubplot at 0x191379f36d8>"
      ]
     },
     "execution_count": 37,
     "metadata": {},
     "output_type": "execute_result"
    },
    {
     "data": {
      "image/png": "[encoded data removed]",
      "text/plain": [
       "<Figure size 432x288 with 1 Axes>"
      ]
     },
     "metadata": {
      "needs_background": "light"
     },
     "output_type": "display_data"
    }
   ],
   "source": [
    "sns.boxplot(x=\"goal\", data=final_df_2018)"
   ]
  },
  {
   "cell_type": "markdown",
   "metadata": {},
   "source": [
    "The main_category label is binary, with 1 meaning the project category is *Technology* and 0 otherwise. As seen in the previous plots, there may be an association between the project category and its funding goal. Technology projects may require more to be successful. We can perform bivariate analysis to see."
   ]
  },
  {
   "cell_type": "code",
   "execution_count": 38,
   "metadata": {},
   "outputs": [
    {
     "data": {
      "text/html": [
       "<div>\n",
       "<style scoped>\n",
       "    .dataframe tbody tr th:only-of-type {\n",
       "        vertical-align: middle;\n",
       "    }\n",
       "\n",
       "    .dataframe tbody tr th {\n",
       "        vertical-align: top;\n",
       "    }\n",
       "\n",
       "    .dataframe thead th {\n",
       "        text-align: right;\n",
       "    }\n",
       "</style>\n",
       "<table border=\"1\" class=\"dataframe\">\n",
       "  <thead>\n",
       "    <tr style=\"text-align: right;\">\n",
       "      <th></th>\n",
       "      <th>goal</th>\n",
       "    </tr>\n",
       "    <tr>\n",
       "      <th>main_category</th>\n",
       "      <th></th>\n",
       "    </tr>\n",
       "  </thead>\n",
       "  <tbody>\n",
       "    <tr>\n",
       "      <td>0</td>\n",
       "      <td>39209.758589</td>\n",
       "    </tr>\n",
       "    <tr>\n",
       "      <td>1</td>\n",
       "      <td>100417.110626</td>\n",
       "    </tr>\n",
       "  </tbody>\n",
       "</table>\n",
       "</div>"
      ],
      "text/plain": [
       "                        goal\n",
       "main_category               \n",
       "0               39209.758589\n",
       "1              100417.110626"
      ]
     },
     "execution_count": 38,
     "metadata": {},
     "output_type": "execute_result"
    }
   ],
   "source": [
    "#Bivarate analysis (groupby)\n",
    "final_df_2018.groupby(\"main_category\").mean()[[\"goal\"]]"
   ]
  },
  {
   "cell_type": "markdown",
   "metadata": {},
   "source": [
    "As expected, it appears that technology projects have a much higher average funding goal than non-technology projects. The difference appears very significant, as technology projects have more than twice the average funding goal than other projects."
   ]
  },
  {
   "cell_type": "code",
   "execution_count": 39,
   "metadata": {},
   "outputs": [
    {
     "name": "stdout",
     "output_type": "stream",
     "text": [
      "Launch Years of Projects:\n",
      "[1970, 2009, 2010, 2011, 2012, 2013, 2014, 2015, 2016, 2017, 2018]\n",
      "Project Deadlines:\n",
      "[2009, 2010, 2011, 2012, 2013, 2014, 2015, 2016, 2017, 2018]\n"
     ]
    }
   ],
   "source": [
    "print(\"Launch Years of Projects:\")\n",
    "print(sorted(set(final_df_2018[\"year_launch\"])))\n",
    "\n",
    "print(\"Project Deadlines:\")\n",
    "print(sorted(set(final_df_2018[\"year_deadline\"])))"
   ]
  },
  {
   "cell_type": "code",
   "execution_count": 40,
   "metadata": {},
   "outputs": [
    {
     "name": "stdout",
     "output_type": "stream",
     "text": [
      "Average duration of projects in days:  33.72137524757503\n"
     ]
    },
    {
     "data": {
      "text/plain": [
       "<matplotlib.axes._subplots.AxesSubplot at 0x19137a576d8>"
      ]
     },
     "execution_count": 40,
     "metadata": {},
     "output_type": "execute_result"
    },
    {
     "data": {
      "image/png": "[encoded data removed]",
      "text/plain": [
       "<Figure size 432x288 with 1 Axes>"
      ]
     },
     "metadata": {
      "needs_background": "light"
     },
     "output_type": "display_data"
    }
   ],
   "source": [
    "final_df_2018[\"days\"] = final_df_2018[\"duration\"].apply(lambda x: x.days)\n",
    "print(\"Average duration of projects in days: \", np.mean(final_df_2018[\"days\"]))\n",
    "sns.distplot(final_df_2018[\"days\"], norm_hist=True)"
   ]
  },
  {
   "cell_type": "code",
   "execution_count": 41,
   "metadata": {},
   "outputs": [
    {
     "data": {
      "text/html": [
       "<div>\n",
       "<style scoped>\n",
       "    .dataframe tbody tr th:only-of-type {\n",
       "        vertical-align: middle;\n",
       "    }\n",
       "\n",
       "    .dataframe tbody tr th {\n",
       "        vertical-align: top;\n",
       "    }\n",
       "\n",
       "    .dataframe thead th {\n",
       "        text-align: right;\n",
       "    }\n",
       "</style>\n",
       "<table border=\"1\" class=\"dataframe\">\n",
       "  <thead>\n",
       "    <tr style=\"text-align: right;\">\n",
       "      <th></th>\n",
       "      <th>days</th>\n",
       "    </tr>\n",
       "    <tr>\n",
       "      <th>main_category</th>\n",
       "      <th></th>\n",
       "    </tr>\n",
       "  </thead>\n",
       "  <tbody>\n",
       "    <tr>\n",
       "      <td>0</td>\n",
       "      <td>33.660640</td>\n",
       "    </tr>\n",
       "    <tr>\n",
       "      <td>1</td>\n",
       "      <td>34.492649</td>\n",
       "    </tr>\n",
       "  </tbody>\n",
       "</table>\n",
       "</div>"
      ],
      "text/plain": [
       "                    days\n",
       "main_category           \n",
       "0              33.660640\n",
       "1              34.492649"
      ]
     },
     "execution_count": 41,
     "metadata": {},
     "output_type": "execute_result"
    }
   ],
   "source": [
    "final_df_2018.groupby(\"main_category\").mean()[[\"days\"]]"
   ]
  },
  {
   "cell_type": "code",
   "execution_count": 42,
   "metadata": {},
   "outputs": [
    {
     "data": {
      "text/html": [
       "<div>\n",
       "<style scoped>\n",
       "    .dataframe tbody tr th:only-of-type {\n",
       "        vertical-align: middle;\n",
       "    }\n",
       "\n",
       "    .dataframe tbody tr th {\n",
       "        vertical-align: top;\n",
       "    }\n",
       "\n",
       "    .dataframe thead th {\n",
       "        text-align: right;\n",
       "    }\n",
       "</style>\n",
       "<table border=\"1\" class=\"dataframe\">\n",
       "  <thead>\n",
       "    <tr style=\"text-align: right;\">\n",
       "      <th></th>\n",
       "      <th>ID</th>\n",
       "      <th>name</th>\n",
       "      <th>main_category</th>\n",
       "      <th>deadline</th>\n",
       "      <th>goal</th>\n",
       "      <th>launched</th>\n",
       "      <th>month_launch</th>\n",
       "      <th>year_launch</th>\n",
       "      <th>month_deadline</th>\n",
       "      <th>year_deadline</th>\n",
       "      <th>duration</th>\n",
       "      <th>state</th>\n",
       "      <th>days</th>\n",
       "    </tr>\n",
       "  </thead>\n",
       "  <tbody>\n",
       "    <tr>\n",
       "      <td>70</td>\n",
       "      <td>1000260691</td>\n",
       "      <td>Gizbee™ Unlimited Removable Storage for Your T...</td>\n",
       "      <td>1</td>\n",
       "      <td>2016-03-25</td>\n",
       "      <td>87000.0</td>\n",
       "      <td>2016-02-29 20:30:27</td>\n",
       "      <td>2</td>\n",
       "      <td>2016</td>\n",
       "      <td>3</td>\n",
       "      <td>2016</td>\n",
       "      <td>24 days 03:29:33</td>\n",
       "      <td>0</td>\n",
       "      <td>24</td>\n",
       "    </tr>\n",
       "    <tr>\n",
       "      <td>71</td>\n",
       "      <td>1000261018</td>\n",
       "      <td>Diposta - liberating people from their postal ...</td>\n",
       "      <td>1</td>\n",
       "      <td>2016-08-23</td>\n",
       "      <td>100000.0</td>\n",
       "      <td>2016-07-24 13:18:36</td>\n",
       "      <td>7</td>\n",
       "      <td>2016</td>\n",
       "      <td>8</td>\n",
       "      <td>2016</td>\n",
       "      <td>29 days 10:41:24</td>\n",
       "      <td>0</td>\n",
       "      <td>29</td>\n",
       "    </tr>\n",
       "    <tr>\n",
       "      <td>112</td>\n",
       "      <td>1000468345</td>\n",
       "      <td>iRNinja - Control your TV with a simple press ...</td>\n",
       "      <td>1</td>\n",
       "      <td>2017-06-14</td>\n",
       "      <td>500.0</td>\n",
       "      <td>2017-05-10 16:00:18</td>\n",
       "      <td>5</td>\n",
       "      <td>2017</td>\n",
       "      <td>6</td>\n",
       "      <td>2017</td>\n",
       "      <td>34 days 07:59:42</td>\n",
       "      <td>0</td>\n",
       "      <td>34</td>\n",
       "    </tr>\n",
       "    <tr>\n",
       "      <td>127</td>\n",
       "      <td>1000535116</td>\n",
       "      <td>Xi3: Help us Usher in the Post-PC Era</td>\n",
       "      <td>1</td>\n",
       "      <td>2012-10-28</td>\n",
       "      <td>250000.0</td>\n",
       "      <td>2012-09-28 09:33:59</td>\n",
       "      <td>9</td>\n",
       "      <td>2012</td>\n",
       "      <td>10</td>\n",
       "      <td>2012</td>\n",
       "      <td>29 days 14:26:01</td>\n",
       "      <td>0</td>\n",
       "      <td>29</td>\n",
       "    </tr>\n",
       "    <tr>\n",
       "      <td>135</td>\n",
       "      <td>1000558429</td>\n",
       "      <td>Sellegg start up classified site</td>\n",
       "      <td>1</td>\n",
       "      <td>2016-03-20</td>\n",
       "      <td>15000.0</td>\n",
       "      <td>2016-03-02 02:13:52</td>\n",
       "      <td>3</td>\n",
       "      <td>2016</td>\n",
       "      <td>3</td>\n",
       "      <td>2016</td>\n",
       "      <td>17 days 21:46:08</td>\n",
       "      <td>0</td>\n",
       "      <td>17</td>\n",
       "    </tr>\n",
       "  </tbody>\n",
       "</table>\n",
       "</div>"
      ],
      "text/plain": [
       "             ID                                               name  \\\n",
       "70   1000260691  Gizbee™ Unlimited Removable Storage for Your T...   \n",
       "71   1000261018  Diposta - liberating people from their postal ...   \n",
       "112  1000468345  iRNinja - Control your TV with a simple press ...   \n",
       "127  1000535116              Xi3: Help us Usher in the Post-PC Era   \n",
       "135  1000558429                   Sellegg start up classified site   \n",
       "\n",
       "     main_category   deadline      goal            launched  month_launch  \\\n",
       "70               1 2016-03-25   87000.0 2016-02-29 20:30:27             2   \n",
       "71               1 2016-08-23  100000.0 2016-07-24 13:18:36             7   \n",
       "112              1 2017-06-14     500.0 2017-05-10 16:00:18             5   \n",
       "127              1 2012-10-28  250000.0 2012-09-28 09:33:59             9   \n",
       "135              1 2016-03-20   15000.0 2016-03-02 02:13:52             3   \n",
       "\n",
       "     year_launch  month_deadline  year_deadline         duration state  days  \n",
       "70          2016               3           2016 24 days 03:29:33     0    24  \n",
       "71          2016               8           2016 29 days 10:41:24     0    29  \n",
       "112         2017               6           2017 34 days 07:59:42     0    34  \n",
       "127         2012              10           2012 29 days 14:26:01     0    29  \n",
       "135         2016               3           2016 17 days 21:46:08     0    17  "
      ]
     },
     "execution_count": 42,
     "metadata": {},
     "output_type": "execute_result"
    }
   ],
   "source": [
    "final_df_2018[final_df_2018[\"main_category\"] == 1].head()"
   ]
  },
  {
   "cell_type": "code",
   "execution_count": 43,
   "metadata": {},
   "outputs": [
    {
     "data": {
      "text/html": [
       "<div>\n",
       "<style scoped>\n",
       "    .dataframe tbody tr th:only-of-type {\n",
       "        vertical-align: middle;\n",
       "    }\n",
       "\n",
       "    .dataframe tbody tr th {\n",
       "        vertical-align: top;\n",
       "    }\n",
       "\n",
       "    .dataframe thead th {\n",
       "        text-align: right;\n",
       "    }\n",
       "</style>\n",
       "<table border=\"1\" class=\"dataframe\">\n",
       "  <thead>\n",
       "    <tr style=\"text-align: right;\">\n",
       "      <th></th>\n",
       "      <th>ID</th>\n",
       "      <th>name</th>\n",
       "      <th>main_category</th>\n",
       "      <th>deadline</th>\n",
       "      <th>goal</th>\n",
       "      <th>launched</th>\n",
       "      <th>month_launch</th>\n",
       "      <th>year_launch</th>\n",
       "      <th>month_deadline</th>\n",
       "      <th>year_deadline</th>\n",
       "      <th>duration</th>\n",
       "      <th>state</th>\n",
       "      <th>days</th>\n",
       "    </tr>\n",
       "  </thead>\n",
       "  <tbody>\n",
       "    <tr>\n",
       "      <td>2842</td>\n",
       "      <td>1014746686</td>\n",
       "      <td>Salt of the Earth: A Dead Sea Movie (Canceled)</td>\n",
       "      <td>0</td>\n",
       "      <td>2010-09-15</td>\n",
       "      <td>5000.0</td>\n",
       "      <td>1970-01-01 01:00:00</td>\n",
       "      <td>1</td>\n",
       "      <td>1970</td>\n",
       "      <td>9</td>\n",
       "      <td>2010</td>\n",
       "      <td>14866 days 23:00:00</td>\n",
       "      <td>0</td>\n",
       "      <td>14866</td>\n",
       "    </tr>\n",
       "    <tr>\n",
       "      <td>48147</td>\n",
       "      <td>1245461087</td>\n",
       "      <td>1st Super-Size Painting - Social Network Owned...</td>\n",
       "      <td>0</td>\n",
       "      <td>2010-08-14</td>\n",
       "      <td>15000.0</td>\n",
       "      <td>1970-01-01 01:00:00</td>\n",
       "      <td>1</td>\n",
       "      <td>1970</td>\n",
       "      <td>8</td>\n",
       "      <td>2010</td>\n",
       "      <td>14834 days 23:00:00</td>\n",
       "      <td>0</td>\n",
       "      <td>14834</td>\n",
       "    </tr>\n",
       "    <tr>\n",
       "      <td>75397</td>\n",
       "      <td>1384087152</td>\n",
       "      <td>\"ICHOR\"  (Canceled)</td>\n",
       "      <td>0</td>\n",
       "      <td>2010-05-21</td>\n",
       "      <td>700.0</td>\n",
       "      <td>1970-01-01 01:00:00</td>\n",
       "      <td>1</td>\n",
       "      <td>1970</td>\n",
       "      <td>5</td>\n",
       "      <td>2010</td>\n",
       "      <td>14749 days 23:00:00</td>\n",
       "      <td>0</td>\n",
       "      <td>14749</td>\n",
       "    </tr>\n",
       "    <tr>\n",
       "      <td>94579</td>\n",
       "      <td>1480763647</td>\n",
       "      <td>Support Solo Theater! Help \"Ungrateful Daughte...</td>\n",
       "      <td>0</td>\n",
       "      <td>2010-06-01</td>\n",
       "      <td>4000.0</td>\n",
       "      <td>1970-01-01 01:00:00</td>\n",
       "      <td>1</td>\n",
       "      <td>1970</td>\n",
       "      <td>6</td>\n",
       "      <td>2010</td>\n",
       "      <td>14760 days 23:00:00</td>\n",
       "      <td>0</td>\n",
       "      <td>14760</td>\n",
       "    </tr>\n",
       "    <tr>\n",
       "      <td>247913</td>\n",
       "      <td>330942060</td>\n",
       "      <td>Help RIZ Make A Charity Album: 8 Songs, 8 Caus...</td>\n",
       "      <td>0</td>\n",
       "      <td>2010-05-04</td>\n",
       "      <td>10000.0</td>\n",
       "      <td>1970-01-01 01:00:00</td>\n",
       "      <td>1</td>\n",
       "      <td>1970</td>\n",
       "      <td>5</td>\n",
       "      <td>2010</td>\n",
       "      <td>14732 days 23:00:00</td>\n",
       "      <td>0</td>\n",
       "      <td>14732</td>\n",
       "    </tr>\n",
       "    <tr>\n",
       "      <td>273779</td>\n",
       "      <td>462917959</td>\n",
       "      <td>Identity Communications Infographic (Canceled)</td>\n",
       "      <td>0</td>\n",
       "      <td>2010-04-10</td>\n",
       "      <td>500.0</td>\n",
       "      <td>1970-01-01 01:00:00</td>\n",
       "      <td>1</td>\n",
       "      <td>1970</td>\n",
       "      <td>4</td>\n",
       "      <td>2010</td>\n",
       "      <td>14708 days 23:00:00</td>\n",
       "      <td>0</td>\n",
       "      <td>14708</td>\n",
       "    </tr>\n",
       "  </tbody>\n",
       "</table>\n",
       "</div>"
      ],
      "text/plain": [
       "                ID                                               name  \\\n",
       "2842    1014746686     Salt of the Earth: A Dead Sea Movie (Canceled)   \n",
       "48147   1245461087  1st Super-Size Painting - Social Network Owned...   \n",
       "75397   1384087152                                \"ICHOR\"  (Canceled)   \n",
       "94579   1480763647  Support Solo Theater! Help \"Ungrateful Daughte...   \n",
       "247913   330942060  Help RIZ Make A Charity Album: 8 Songs, 8 Caus...   \n",
       "273779   462917959     Identity Communications Infographic (Canceled)   \n",
       "\n",
       "        main_category   deadline     goal            launched  month_launch  \\\n",
       "2842                0 2010-09-15   5000.0 1970-01-01 01:00:00             1   \n",
       "48147               0 2010-08-14  15000.0 1970-01-01 01:00:00             1   \n",
       "75397               0 2010-05-21    700.0 1970-01-01 01:00:00             1   \n",
       "94579               0 2010-06-01   4000.0 1970-01-01 01:00:00             1   \n",
       "247913              0 2010-05-04  10000.0 1970-01-01 01:00:00             1   \n",
       "273779              0 2010-04-10    500.0 1970-01-01 01:00:00             1   \n",
       "\n",
       "        year_launch  month_deadline  year_deadline            duration state  \\\n",
       "2842           1970               9           2010 14866 days 23:00:00     0   \n",
       "48147          1970               8           2010 14834 days 23:00:00     0   \n",
       "75397          1970               5           2010 14749 days 23:00:00     0   \n",
       "94579          1970               6           2010 14760 days 23:00:00     0   \n",
       "247913         1970               5           2010 14732 days 23:00:00     0   \n",
       "273779         1970               4           2010 14708 days 23:00:00     0   \n",
       "\n",
       "         days  \n",
       "2842    14866  \n",
       "48147   14834  \n",
       "75397   14749  \n",
       "94579   14760  \n",
       "247913  14732  \n",
       "273779  14708  "
      ]
     },
     "execution_count": 43,
     "metadata": {},
     "output_type": "execute_result"
    }
   ],
   "source": [
    "final_df_2018[final_df_2018[\"days\"] > 1000]"
   ]
  },
  {
   "cell_type": "markdown",
   "metadata": {},
   "source": [
    "### Exploratory Analysis "
   ]
  },
  {
   "cell_type": "code",
   "execution_count": 44,
   "metadata": {},
   "outputs": [
    {
     "data": {
      "text/plain": [
       "<matplotlib.axes._subplots.AxesSubplot at 0x1914d21bcc0>"
      ]
     },
     "execution_count": 44,
     "metadata": {},
     "output_type": "execute_result"
    },
    {
     "data": {
      "image/png": "[encoded data removed]",
      "text/plain": [
       "<Figure size 432x288 with 1 Axes>"
      ]
     },
     "metadata": {
      "needs_background": "light"
     },
     "output_type": "display_data"
    }
   ],
   "source": [
    "df_2018 = df_2018[df_2018['year_launch'] > 1970]\n",
    "sns.barplot(x=df_2018['year_launch'], y=df_2018['usd_pledged_real'])"
   ]
  },
  {
   "cell_type": "code",
   "execution_count": 45,
   "metadata": {},
   "outputs": [
    {
     "data": {
      "image/png": "[encoded data removed]",
      "text/plain": [
       "<Figure size 432x288 with 1 Axes>"
      ]
     },
     "metadata": {
      "needs_background": "light"
     },
     "output_type": "display_data"
    }
   ],
   "source": [
    "df_2018 = df_2018[df_2018['backers'] < 150000]\n",
    "df_2018 = df_2018[df_2018['backers'] > 5000]\n",
    "plt.scatter(df_2018['backers'], df_2018['usd_goal_real'])\n",
    "a2, b2 = np.polyfit(df_2018['backers'], df_2018['usd_goal_real'], 1)"
   ]
  },
  {
   "cell_type": "code",
   "execution_count": 46,
   "metadata": {},
   "outputs": [],
   "source": [
    "floats = a2 * np.arange(df_2018['backers'].min(), df_2018['backers'].max(), 1) + b2\n",
    "pred_goal = floats"
   ]
  },
  {
   "cell_type": "code",
   "execution_count": 47,
   "metadata": {},
   "outputs": [
    {
     "data": {
      "text/plain": [
       "[<matplotlib.lines.Line2D at 0x191302c40f0>]"
      ]
     },
     "execution_count": 47,
     "metadata": {},
     "output_type": "execute_result"
    },
    {
     "data": {
      "image/png": "[encoded data removed]",
      "text/plain": [
       "<Figure size 432x288 with 1 Axes>"
      ]
     },
     "metadata": {
      "needs_background": "light"
     },
     "output_type": "display_data"
    }
   ],
   "source": [
    "plt.plot(np.arange(df_2018['backers'].min(),df_2018['backers'].max(),1), pred_goal, color='RED')"
   ]
  },
  {
   "cell_type": "code",
   "execution_count": 48,
   "metadata": {},
   "outputs": [
    {
     "data": {
      "text/plain": [
       "<matplotlib.axes._subplots.AxesSubplot at 0x19130224668>"
      ]
     },
     "execution_count": 48,
     "metadata": {},
     "output_type": "execute_result"
    },
    {
     "data": {
      "image/png": "[encoded data removed]",
      "text/plain": [
       "<Figure size 432x288 with 1 Axes>"
      ]
     },
     "metadata": {
      "needs_background": "light"
     },
     "output_type": "display_data"
    }
   ],
   "source": [
    "sns.barplot(x=final_df_2018['month_launch'], y=(df_2018['pledged']))"
   ]
  },
  {
   "cell_type": "markdown",
   "metadata": {},
   "source": [
    "### Prediction"
   ]
  },
  {
   "cell_type": "code",
   "execution_count": 50,
   "metadata": {},
   "outputs": [
    {
     "data": {
      "text/html": [
       "<div>\n",
       "<style scoped>\n",
       "    .dataframe tbody tr th:only-of-type {\n",
       "        vertical-align: middle;\n",
       "    }\n",
       "\n",
       "    .dataframe tbody tr th {\n",
       "        vertical-align: top;\n",
       "    }\n",
       "\n",
       "    .dataframe thead th {\n",
       "        text-align: right;\n",
       "    }\n",
       "</style>\n",
       "<table border=\"1\" class=\"dataframe\">\n",
       "  <thead>\n",
       "    <tr style=\"text-align: right;\">\n",
       "      <th></th>\n",
       "      <th>ID</th>\n",
       "      <th>deadline</th>\n",
       "      <th>duration</th>\n",
       "      <th>goal</th>\n",
       "      <th>launched</th>\n",
       "      <th>main_category</th>\n",
       "      <th>month_deadline</th>\n",
       "      <th>month_launch</th>\n",
       "      <th>name</th>\n",
       "      <th>state</th>\n",
       "      <th>year_deadline</th>\n",
       "      <th>year_launch</th>\n",
       "    </tr>\n",
       "  </thead>\n",
       "  <tbody>\n",
       "    <tr>\n",
       "      <td>0</td>\n",
       "      <td>857125548</td>\n",
       "      <td>2015-04-30 23:12:00</td>\n",
       "      <td>NaT</td>\n",
       "      <td>2000.0</td>\n",
       "      <td>2015-03-19 22:34:57</td>\n",
       "      <td>0</td>\n",
       "      <td>4</td>\n",
       "      <td>3</td>\n",
       "      <td>Remix</td>\n",
       "      <td>0.0</td>\n",
       "      <td>2015</td>\n",
       "      <td>2015</td>\n",
       "    </tr>\n",
       "    <tr>\n",
       "      <td>1</td>\n",
       "      <td>1038659700</td>\n",
       "      <td>2014-07-27 01:55:07</td>\n",
       "      <td>NaT</td>\n",
       "      <td>10.0</td>\n",
       "      <td>2014-07-17 01:55:07</td>\n",
       "      <td>0</td>\n",
       "      <td>7</td>\n",
       "      <td>7</td>\n",
       "      <td>Photo of Grant and Hazel eating cake with bare...</td>\n",
       "      <td>0.0</td>\n",
       "      <td>2014</td>\n",
       "      <td>2014</td>\n",
       "    </tr>\n",
       "    <tr>\n",
       "      <td>2</td>\n",
       "      <td>1238331911</td>\n",
       "      <td>2014-08-29 16:29:13</td>\n",
       "      <td>NaT</td>\n",
       "      <td>900.0</td>\n",
       "      <td>2014-07-30 16:29:13</td>\n",
       "      <td>0</td>\n",
       "      <td>8</td>\n",
       "      <td>7</td>\n",
       "      <td>Minecraft Digital Art/Animations</td>\n",
       "      <td>0.0</td>\n",
       "      <td>2014</td>\n",
       "      <td>2014</td>\n",
       "    </tr>\n",
       "    <tr>\n",
       "      <td>3</td>\n",
       "      <td>189217262</td>\n",
       "      <td>2015-05-31 16:09:11</td>\n",
       "      <td>NaT</td>\n",
       "      <td>900.0</td>\n",
       "      <td>2015-05-11 16:09:11</td>\n",
       "      <td>0</td>\n",
       "      <td>5</td>\n",
       "      <td>5</td>\n",
       "      <td>Sacramento Nature Photograph Series</td>\n",
       "      <td>0.0</td>\n",
       "      <td>2015</td>\n",
       "      <td>2015</td>\n",
       "    </tr>\n",
       "    <tr>\n",
       "      <td>4</td>\n",
       "      <td>1260075071</td>\n",
       "      <td>2015-03-08 20:52:02</td>\n",
       "      <td>NaT</td>\n",
       "      <td>15000.0</td>\n",
       "      <td>2015-02-06 21:52:02</td>\n",
       "      <td>0</td>\n",
       "      <td>3</td>\n",
       "      <td>2</td>\n",
       "      <td>North Africa art project - my dream</td>\n",
       "      <td>0.0</td>\n",
       "      <td>2015</td>\n",
       "      <td>2015</td>\n",
       "    </tr>\n",
       "  </tbody>\n",
       "</table>\n",
       "</div>"
      ],
      "text/plain": [
       "           ID            deadline duration     goal             launched  \\\n",
       "0   857125548 2015-04-30 23:12:00      NaT   2000.0  2015-03-19 22:34:57   \n",
       "1  1038659700 2014-07-27 01:55:07      NaT     10.0  2014-07-17 01:55:07   \n",
       "2  1238331911 2014-08-29 16:29:13      NaT    900.0  2014-07-30 16:29:13   \n",
       "3   189217262 2015-05-31 16:09:11      NaT    900.0  2015-05-11 16:09:11   \n",
       "4  1260075071 2015-03-08 20:52:02      NaT  15000.0  2015-02-06 21:52:02   \n",
       "\n",
       "   main_category  month_deadline  month_launch  \\\n",
       "0              0               4             3   \n",
       "1              0               7             7   \n",
       "2              0               8             7   \n",
       "3              0               5             5   \n",
       "4              0               3             2   \n",
       "\n",
       "                                                name  state  year_deadline  \\\n",
       "0                                              Remix    0.0           2015   \n",
       "1  Photo of Grant and Hazel eating cake with bare...    0.0           2014   \n",
       "2                   Minecraft Digital Art/Animations    0.0           2014   \n",
       "3                Sacramento Nature Photograph Series    0.0           2015   \n",
       "4                North Africa art project - my dream    0.0           2015   \n",
       "\n",
       "   year_launch  \n",
       "0         2015  \n",
       "1         2014  \n",
       "2         2014  \n",
       "3         2015  \n",
       "4         2015  "
      ]
     },
     "execution_count": 50,
     "metadata": {},
     "output_type": "execute_result"
    }
   ],
   "source": [
    "df_final.head()"
   ]
  },
  {
   "cell_type": "code",
   "execution_count": 51,
   "metadata": {},
   "outputs": [
    {
     "name": "stdout",
     "output_type": "stream",
     "text": [
      "[[0.]\n",
      " [0.]\n",
      " [0.]\n",
      " ...\n",
      " [0.]\n",
      " [0.]\n",
      " [0.]]\n",
      "[[1.000e+00 0.000e+00 3.000e+00 2.015e+03 2.000e+03]\n",
      " [1.000e+00 0.000e+00 7.000e+00 2.014e+03 1.000e+01]\n",
      " [1.000e+00 0.000e+00 7.000e+00 2.014e+03 9.000e+02]\n",
      " ...\n",
      " [1.000e+00 0.000e+00 2.000e+00 2.012e+03 1.700e+03]\n",
      " [1.000e+00 0.000e+00 9.000e+00 2.014e+03 5.000e+04]\n",
      " [1.000e+00 1.000e+00 1.000e+00 2.016e+03 1.500e+04]]\n"
     ]
    }
   ],
   "source": [
    "outcome, predictors = patsy.dmatrices(\"state ~ main_category + month_launch + year_launch + goal\", df_final)\n",
    "mod = sm.OLS(outcome, predictors)\n",
    "res = mod.fit()\n",
    "print(outcome)\n",
    "print(predictors)"
   ]
  },
  {
   "cell_type": "code",
   "execution_count": 52,
   "metadata": {},
   "outputs": [
    {
     "name": "stdout",
     "output_type": "stream",
     "text": [
      "                            OLS Regression Results                            \n",
      "==============================================================================\n",
      "Dep. Variable:                  state   R-squared:                       0.062\n",
      "Model:                            OLS   Adj. R-squared:                  0.062\n",
      "Method:                 Least Squares   F-statistic:                     6725.\n",
      "Date:                Tue, 10 Mar 2020   Prob (F-statistic):               0.00\n",
      "Time:                        14:33:01   Log-Likelihood:            -2.8284e+05\n",
      "No. Observations:              407662   AIC:                         5.657e+05\n",
      "Df Residuals:                  407657   BIC:                         5.657e+05\n",
      "Df Model:                           4                                         \n",
      "Covariance Type:            nonrobust                                         \n",
      "=================================================================================\n",
      "                    coef    std err          t      P>|t|      [0.025      0.975]\n",
      "---------------------------------------------------------------------------------\n",
      "Intercept      -106.0243      0.683   -155.341      0.000    -107.362    -104.687\n",
      "main_category    -0.1495      0.003    -55.208      0.000      -0.155      -0.144\n",
      "month_launch     -0.0018      0.000     -8.067      0.000      -0.002      -0.001\n",
      "year_launch       0.0529      0.000    156.155      0.000       0.052       0.054\n",
      "goal          -8.817e-09   6.71e-10    -13.150      0.000   -1.01e-08    -7.5e-09\n",
      "==============================================================================\n",
      "Omnibus:                  1660589.905   Durbin-Watson:                   0.419\n",
      "Prob(Omnibus):                  0.000   Jarque-Bera (JB):            52156.860\n",
      "Skew:                           0.021   Prob(JB):                         0.00\n",
      "Kurtosis:                       1.248   Cond. No.                     1.02e+09\n",
      "==============================================================================\n",
      "\n",
      "Warnings:\n",
      "[1] Standard Errors assume that the covariance matrix of the errors is correctly specified.\n",
      "[2] The condition number is large, 1.02e+09. This might indicate that there are\n",
      "strong multicollinearity or other numerical problems.\n"
     ]
    }
   ],
   "source": [
    "print(res.summary())"
   ]
  },
  {
   "cell_type": "markdown",
   "metadata": {},
   "source": [
    "From the above, we can see that, with an alpha value of .01, year seems to be significant factor of success compared to all other categories. However, since our predictions are binary, the best approach would be to try logistic regression."
   ]
  },
  {
   "cell_type": "code",
   "execution_count": 53,
   "metadata": {},
   "outputs": [
    {
     "name": "stdout",
     "output_type": "stream",
     "text": [
      "Optimization terminated successfully.\n",
      "         Current function value: 0.661031\n",
      "         Iterations 8\n",
      "                           Logit Regression Results                           \n",
      "==============================================================================\n",
      "Dep. Variable:                  state   No. Observations:               407662\n",
      "Model:                          Logit   Df Residuals:                   407657\n",
      "Method:                           MLE   Df Model:                            4\n",
      "Date:                Tue, 10 Mar 2020   Pseudo R-squ.:                 0.04628\n",
      "Time:                        14:33:11   Log-Likelihood:            -2.6948e+05\n",
      "converged:                       True   LL-Null:                   -2.8255e+05\n",
      "Covariance Type:            nonrobust   LLR p-value:                     0.000\n",
      "=================================================================================\n",
      "                    coef    std err          z      P>|z|      [0.025      0.975]\n",
      "---------------------------------------------------------------------------------\n",
      "Intercept      -450.4404      3.028   -148.754      0.000    -456.375    -444.505\n",
      "main_category    -0.6217      0.012    -53.501      0.000      -0.644      -0.599\n",
      "month_launch     -0.0081      0.001     -8.332      0.000      -0.010      -0.006\n",
      "year_launch       0.2236      0.002    148.826      0.000       0.221       0.227\n",
      "goal          -2.069e-07   1.61e-08    -12.882      0.000   -2.38e-07   -1.75e-07\n",
      "=================================================================================\n"
     ]
    }
   ],
   "source": [
    "outcomeLog, predictorsLog = patsy.dmatrices(\"state ~ main_category + month_launch + year_launch + goal\", df_final)\n",
    "modLog = sm.Logit(outcomeLog, predictorsLog)\n",
    "resLog = modLog.fit()\n",
    "print(resLog.summary())"
   ]
  },
  {
   "cell_type": "markdown",
   "metadata": {},
   "source": [
    "Again, we see that year is more significant than all other categories even when using logistic regression. So, launch year could be a significant factor when determining success for kickstarter projects."
   ]
  },
  {
   "cell_type": "markdown",
   "metadata": {},
   "source": [
    "### Hypothesis Test \n",
    "\n",
    "Null hypothesis: The success rate for technology kickstarters is the same as all others. \n",
    "\n",
    "Alternative hypthesis: The success rate for technology is different from all others."
   ]
  },
  {
   "cell_type": "code",
   "execution_count": 54,
   "metadata": {},
   "outputs": [
    {
     "name": "stdout",
     "output_type": "stream",
     "text": [
      "There is a significant difference between the two.\n",
      "The success rate for technology is:  0.4088193857424627\n",
      "The success rate for all other categories are:  0.5135098825274336\n"
     ]
    }
   ],
   "source": [
    "#Test here \n",
    "h_tech = df_final[df_final['main_category'] == 1]['state'].values\n",
    "h_nontech = df_final[df_final['main_category'] == 0]['state'].values\n",
    "t_val, p_val = ttest_ind(h_tech, h_nontech)\n",
    "if p_val < 0.01:\n",
    "    print('There is a significant difference between the two.')\n",
    "else:\n",
    "    print('There is not a significant difference between the two')\n",
    "    \n",
    "#print(pd.DataFrame(h_tech)[0].value_counts())\n",
    "#print(pd.DataFrame(h_nontech)[0].value_counts())\n",
    "\n",
    "h_techsuccess = pd.DataFrame(h_tech)[0].value_counts()[1.0]\n",
    "h_techfailures = pd.DataFrame(h_tech)[0].value_counts()[0.0]\n",
    "h_nontechsuccess = pd.DataFrame(h_nontech)[0].value_counts()[1.0]\n",
    "h_nontechfailures = pd.DataFrame(h_nontech)[0].value_counts()[0.0]\n",
    "\n",
    "techsuccesspercent = h_techsuccess/(h_techsuccess + h_techfailures)\n",
    "nontechsuccesspercent = h_nontechsuccess/(h_nontechfailures + h_nontechsuccess)\n",
    "\n",
    "print(\"The success rate for technology is: \", techsuccesspercent)\n",
    "print(\"The success rate for all other categories are: \", nontechsuccesspercent)\n",
    "\n"
   ]
  },
  {
   "cell_type": "markdown",
   "metadata": {},
   "source": [
    "From this we can see that there is actually a significant difference between the technology categories and all other categories. Therefore, we may reject the null hypothesis, as there is a significant difference. As shown, the difference of success rate is roughly 11% more for all other categories.\n",
    "\n",
    "Furthermore, from the logistic regression and the linear regression tests that are done on the data we can see that, using an alpha value of .01, launch year is much more significant for success than category is."
   ]
  },
  {
   "cell_type": "markdown",
   "metadata": {},
   "source": [
    "# Ethics & Privacy"
   ]
  },
  {
   "cell_type": "markdown",
   "metadata": {},
   "source": [
    "Searching through Kickstarter, the majority of participants are startups consisting of a small workforce. We must pursue our project in a manner that is both equitable on both the website and the startups. Another stakeholder is the backers (investors) of the project, these are listed anonymously on the website, but still should be considered in the process. It is important to consider these stakeholders, as associating their names to this analysis could harm their reputation, whether it would be the individual workers or the company itself. One way to protect this is to remove any startup names and to generalize startups into categories. By not disclosing the information of name, so that PII cannot be obtained by connecting the name of startup with the individual workers. Furthermore, we will store the data in a secure google drive for only group members in order to retain any private information.\n",
    "\n",
    "Moreover, we have to take into consideration the reliability of the data. Kickstarter is a third party in the transactions of startups and donators. Kickstarter gives us access to these data metrics and so it is less likely to hold misinformation about backers. However, biases still need to be considered, such as who the investors are. When dealing with our analysis, we must be wary to not make quick conclusive statements on causation of our findings, there are many confounding variables to be considered, such as time released of the project. We will continue to monitor our models to see whether there are biases involved or confounding variables not checked.\n"
   ]
  },
  {
   "cell_type": "markdown",
   "metadata": {},
   "source": [
    "# Conclusion & Discussion"
   ]
  },
  {
   "cell_type": "markdown",
   "metadata": {},
   "source": [
    "From our hypothesis testing, we concluded that there is a significant difference in the success rates of tech kickstarter campaigns compared to non-tech kickstarter campaigns, with a 11% difference in favor of non-tech kickstarters. This does not coincide with the hypothesis we made at the start of the project. Reasons for this could an over saturation for kickstarter campaigns that are related to tech and, therefore, success favors kickstarters that demonstrate uniqueness and creativeness. Moreover, our descriptive analysis illustrated that the goal amount in USD on average was significantly higher. This could be another reason towards the logic of our final conclusion, the required monetary goals were harder to reach and succeed for tech-related kickstarters. \n",
    "\n",
    "This leads onto one of the limitations of our analysis, which was the way in which we valued a campaign’s success. We evaluated campaigns’ success with binary values on whether the campaigns reached their goal amount in USD or not. This was not reliable, because as shown by our outliers some campaigns set the amount goal to a significantly large number. Another limitation was the kickstarter could set the deadline themselves and therefore, the time limit for their own campaigns could be unlimited. Therefore, a measurement that would have been more representative of a measurement of success would have been the amount raised during the first month of all campaigns. Moreover, there are many ways to define the measurement of success. Following from our analysis, our group could have looked into profit margins, amount goal raised or total sales.\n",
    "\n",
    "However, what was more interesting to the case of our project was the takeaway that launch year was the most significant variable out of all the variables we considered. With such significance, our group could have further analyzed the prospect of launch year being a cofounder in our analysis. Tech campaigns would have most likely increased proportionately in throughout the years. On the other hand the success rates could have also increased proportionately. Therefore, we could have took this into account into our hypothesis testing through utilizing an instrumental variable.\n",
    "\n",
    "For further analysis, we would look into other startup incubator methods, such as angel investors. From there, we could compare different incubators and compare their success rates and analyze the optimal solutions for raising money for various startups."
   ]
  }
 ],
 "metadata": {
  "kernelspec": {
   "display_name": "Python 3",
   "language": "python",
   "name": "python3"
  },
  "language_info": {
   "codemirror_mode": {
    "name": "ipython",
    "version": 3
   },
   "file_extension": ".py",
   "mimetype": "text/x-python",
   "name": "python",
   "nbconvert_exporter": "python",
   "pygments_lexer": "ipython3",
   "version": "3.8.5"
  }
 },
 "nbformat": 4,
 "nbformat_minor": 2
}
