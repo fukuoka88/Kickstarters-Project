{
 "cells": [
  {
   "cell_type": "markdown",
   "metadata": {},
   "source": [
    "# COGS 108 - Final Project Proposal"
   ]
  },
  {
   "cell_type": "markdown",
   "metadata": {},
   "source": [
    "# Names\n",
    "\n",
    "- Gabrielle Avila\n",
    "- Rick Boelen\n",
    "- Kevin Dolay\n",
    "- Leland Long\n",
    "- Samson Qian"
   ]
  },
  {
   "cell_type": "markdown",
   "metadata": {},
   "source": [
    "# Group Members IDs\n",
    "\n",
    "- A15364287\n",
    "- A15081823\n",
    "- A13685961\n",
    "- A15524251\n",
    "- A15403917"
   ]
  },
  {
   "cell_type": "markdown",
   "metadata": {},
   "source": [
    "# Research Question"
   ]
  },
  {
   "cell_type": "markdown",
   "metadata": {},
   "source": [
    "Is a kickstarter successful based off of certain features? Can we predict the success of a kickstarter based off of categories such as technology and initial funding? If they overfund the milestone, are they more successful than those who under funded or barely reached the milestones set?"
   ]
  },
  {
   "cell_type": "markdown",
   "metadata": {},
   "source": [
    "## Background and Prior Work"
   ]
  },
  {
   "cell_type": "markdown",
   "metadata": {},
   "source": [
    "Kickstarter is a crowdfunding platform created in 2009 that backs up ideas financially to help them succeed. As of January 2020 approximately 17,347,229 have backed a kickstarter project. A professor at the University of Pennsylvania conducted a study called the Warton Crowdfunding Study, to analyze how effective the Kickstarter community is at funding and backing up new projects. The study looked at the economic and social impacts of Kickstarter. The results showed that the majority of projects deliver, and only around 1 in 10 of them will fail. One of the findings in this study showed that the projects on Kickstarter that have less than $1000 backing them up, are most likely to fail. We want to look closer into how the initial funding of a Kickstarter project can affect its overall outcome. (Source 2) \n",
    "\n",
    "Successful crowdfunding projects all seem to have similar characteristics: a plan, prototypes, references and proof of outside support. In order to get initial funding, investors tend to look for these signals. Kickstarter also has the ability to adjust access to fundings creating more equal opportunities for women in technology. A study showed that women actually have a higher chance of succeeding at crowdfunding than men due to homophily. (Source 1) We want to look closer into if there are other features that impact whether a Kickstarter project becomes successful. \n",
    "\t\n",
    "Another aspect to consider is the amount of projects per category that are successfully funded by Kickstarter. In general, film and videos have the most launched projects, at almost twice that of technology or games. However, it has almost half as much funded dollars as technology and games (source 3). This discrepancy can be inferred to be because independent movies often cost less to fund. In addition, technology’s success rate is significantly lower at 20% compared to film’s 40%. This implies a high-risk, high-reward mentality when backing technology-based projects on the site and it would be interesting to analyze if higher milestone goals would necessarily increase the success of a project. In other words, is there a correlation between higher funding expectations and success.\n",
    "\t\n",
    "However, when doing our data analysis, we must be conscious of cofactors such as promotional strategies. Many successful Kickstarters had strong marketing campaigns on social media with well established leaders in industry. This will lead to more funding, but at the same time, more experienced leaders may be the cause of the success, not just the funding alone. Additionally, successful campaigns often establish themselves as a brand and differentiate themselves from other Kickstarters (source 4). By having a skilled team that is able to achieve this, it means the project could be more successful because of that.  \n",
    "\n",
    "\n",
    "\n",
    "References:\n",
    "- 1) The Warton Crowdfunding Study   https://crowdfunding.wharton.upenn.edu \n",
    "- 2) https://www.kickstarter.com/fulfillment\n",
    "- 3) https://www.nevaehmedia.com/kickstarter-success-statistics-per-popular-categories-infographics/\n",
    "- 4) https://www.researchgate.net/publication/321439840_Success_Factors_of_Crowdfunding_Projects_on_the_Kickstarter_Platform"
   ]
  },
  {
   "cell_type": "markdown",
   "metadata": {},
   "source": [
    "# Hypothesis\n"
   ]
  },
  {
   "cell_type": "markdown",
   "metadata": {},
   "source": [
    "We believe that projects in the technology category that receive more funding than their set milestone will be more successful than kickstarters in other categories. This is because our background information proved that technology in general gets more funding and are often professional projects rather than small personal projects like with film. Therefore with more resources and professionalism, Technology-based kickstarter projects are more likely to succeed."
   ]
  },
  {
   "cell_type": "markdown",
   "metadata": {},
   "source": [
    "# Data"
   ]
  },
  {
   "cell_type": "markdown",
   "metadata": {},
   "source": [
    "The data we would like to collect will contain rows of observations of different kickstarts and specific features about each as the columns. The data will include information about the category of the kickstart, like whether it was about technology, music, arts, etc. We would also have data about the amount of money funded for the kickstart, as well as the initial fund goal. The data should also have information about the kickstart’s location and a brief description about the kickstart’s purpose. Lastly, each kickstart should be labelled with a binary value of whether it was successful or not after receiving the funding. All of these variables would be the columns of each kickstart observation. Ideally, this data would include over 1000 observations of kickstart success and failures for our analyses to have larger significance. \n",
    "\n",
    "This data is generated through public crowdfunding of unique kickstart ideas, which is made available on public platforms like Kickstarter. Since a lot of kickstarts have been funded and evaluated already, this data should be available through online platforms that manage the crowdfunding of the kickstarts. We would find and collect data from these public platforms. \n"
   ]
  },
  {
   "cell_type": "markdown",
   "metadata": {},
   "source": [
    "# Ethics & Privacy"
   ]
  },
  {
   "cell_type": "markdown",
   "metadata": {},
   "source": [
    "Searching through Kickstarter, the majority of participants are startups consisting of a small workforce. We must pursue our project in a manner that is both equitable on both the website and the startups. Another stakeholder is the backers (investors) of the project, these are listed anonymous on the website, but still should be considered in the process. It is important to consider these stakeholders, as associating their names to this analysis could harm their reputation, whether it would be the individual workers or the company itself. One way to protect this is to remove any startup names and to generalize startups into categories. By not disclosing the information of name, so that PII cannot be obtained by connecting the name of startup with the individual workers. Furthermore, we will store the data in a secure google drive for only group members in order to retain any private information.\n",
    "\n",
    "Moreover, we have to take into consideration the reliability of the data. Kickstarter is a third party in the transactions of startups and donators. Kickstarter gives us access to these data metrics and so it is less likely to hold misinformation about backers. However, biases still need to be considered, such as who the investors are. When dealing with our analysis, we must be wary to not make quick conclusive statements on causation of our findings, there are many confounding variables to be considered, such as time released of the project. We will continue to monitor our models to see whether there are biases involved or confounding variables not checked."
   ]
  },
  {
   "cell_type": "markdown",
   "metadata": {},
   "source": [
    "# Team Expectations "
   ]
  },
  {
   "cell_type": "markdown",
   "metadata": {},
   "source": [
    "As a team, we expect:\n",
    "* *To look for data that is appropriate towards the topic.*\n",
    "* *To try to produce an analysis of the data that is believable and grounded.*\n",
    "* *To meet the deadlines as listed on the project timeline proposal.*\n",
    "* *To keep the entire project as simple and efficient as possible, in order to avoid any complications.*\n",
    "* *To report any potential problems that have come up immediately to the team and to help each other if any potential problems do occur.*\n",
    "* *To equalize the amount of work done amongst everyone in order to minimize the amount of stress.*"
   ]
  },
  {
   "cell_type": "markdown",
   "metadata": {},
   "source": [
    "# Project Timeline Proposal"
   ]
  },
  {
   "cell_type": "markdown",
   "metadata": {},
   "source": [
    "| Meeting Date  | Meeting Time| Completed Before Meeting  | Discuss at Meeting |\n",
    "|---|---|---|---|\n",
    "| 1/28  |  10 AM | Each have one topic ready to discuss   | Begin research and discuss roles in the project after picking a research topic.   | \n",
    "| 1/31  |  Before Midnight |  Have this document filled out in full with everyone’s parts completed. | Begin discussing who should take point on each part and looking for data off of various sources, discussing what additional datasets should be found. **Turn in Project Proposal.** | \n",
    "| 2/4  | 9:30 AM  | Most of the datasets required are found.  | Any potential problems that came up during the last meeting, begin wrangling data and EDA.  |\n",
    "| 2/14  | 9:30 AM  | Most data should be wrangled, EDA should also be almost finished. | Again discuss any potential problems that may have occurred before the meeting and discuss how to solve them. Begin analysis.  |\n",
    "| 2/16  | 9:30 AM  | Wrangling and EDA again should almost be done. | This day should again be just to discuss any potential problems, the last meeting before the check-in should be completed. Look into the wrangling and EDA done so far. |\n",
    "| 2/23  | Before Midnight | Finalized wrangling and EDA. Analysis started. | Complete the project check-in, look at the finalized EDA and Wrangling to make sure nothing went wrong. **Turn in Project Check-In** |\n",
    "| 3/3  | 9:30 AM  | Analysis started. | Weekly check-in to discuss any potential problems as usual. |\n",
    "| 3/12  | 9:30 AM  | Analysis should be finished. Draft started on results, conclusion, and discussion | Weekly check-in. Discuss any lingering project points that need to be finished. Continue work on results, conclusion, and discussion. |\n",
    "| 3/19  | Before Midnight  | Entire project should be finished. | **Turn in project and group surveys.** |"
   ]
  }
 ],
 "metadata": {
  "kernelspec": {
   "display_name": "Python 3",
   "language": "python",
   "name": "python3"
  },
  "language_info": {
   "codemirror_mode": {
    "name": "ipython",
    "version": 3
   },
   "file_extension": ".py",
   "mimetype": "text/x-python",
   "name": "python",
   "nbconvert_exporter": "python",
   "pygments_lexer": "ipython3",
   "version": "3.6.8"
  }
 },
 "nbformat": 4,
 "nbformat_minor": 2
}
