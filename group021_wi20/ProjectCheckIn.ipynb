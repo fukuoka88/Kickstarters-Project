{
 "cells": [
  {
   "cell_type": "markdown",
   "metadata": {},
   "source": [
    "# COGS 108 Final Project Check-In"
   ]
  },
  {
   "cell_type": "markdown",
   "metadata": {},
   "source": [
    "# Names\n",
    "\n",
    "- Gabrielle Avila\n",
    "- Rick Boelen\n",
    "- Kevin Dolay \n",
    "- Leland Long\n",
    "- Samson Qian"
   ]
  },
  {
   "cell_type": "markdown",
   "metadata": {},
   "source": [
    "# Group Members IDs\n",
    "\n",
    "- A15364287\n",
    "- A15081823\n",
    "- A13685961\n",
    "- A15524251\n",
    "- A15403917"
   ]
  },
  {
   "cell_type": "markdown",
   "metadata": {},
   "source": [
    "# Accomplishments"
   ]
  },
  {
   "cell_type": "markdown",
   "metadata": {},
   "source": [
    "*Our group has accomplished finding multiple datasets that include helpful attributes in determining whether or not a kickstarter was successful. We have described each of the datasets and how we can combine them. We have begun the cleaning process for the data, searching for null values and deciding what we are going to do with them. We have cleaned certain columns that are categorical to be numerical in order to perform an analysis with these columns. We have also begun univate analysis of each column and visualizations (histograms), as well as bivariate analysis of multiple columns to visually see if there looks like there could be a correlation.*"
   ]
  },
  {
   "cell_type": "markdown",
   "metadata": {},
   "source": [
    "# Going Well"
   ]
  },
  {
   "cell_type": "markdown",
   "metadata": {},
   "source": [
    "*Picking the datasets has gone well, there has been a lot of information available on Kickstarter. The data gathering and cleaning process has gone well, now time to focus on the data analysis. \n",
    "*"
   ]
  },
  {
   "cell_type": "markdown",
   "metadata": {},
   "source": [
    "# Struggles"
   ]
  },
  {
   "cell_type": "markdown",
   "metadata": {},
   "source": [
    "*One struggle is deciding what analytical approach to take when doing exploratory data analysis with multiple datasets. There is also an ethical concern when including the names of certain startups because they may not want the fact that they failed publicized and analyzed. \n",
    "*"
   ]
  },
  {
   "cell_type": "markdown",
   "metadata": {},
   "source": [
    "# Plan Forward"
   ]
  },
  {
   "cell_type": "markdown",
   "metadata": {},
   "source": [
    "*We are going to do more research in how we can analyze these datasets together and incorporate them into single hypothesis tests. We also are going to carry out the interpretation of our findings once completing the analysis. We also need to spend more time on the visualizations, and explaining why the type of plot was chosen and labeling all the axes. *"
   ]
  },
  {
   "cell_type": "code",
   "execution_count": null,
   "metadata": {},
   "outputs": [],
   "source": []
  }
 ],
 "metadata": {
  "kernelspec": {
   "display_name": "Python 3",
   "language": "python",
   "name": "python3"
  },
  "language_info": {
   "codemirror_mode": {
    "name": "ipython",
    "version": 3
   },
   "file_extension": ".py",
   "mimetype": "text/x-python",
   "name": "python",
   "nbconvert_exporter": "python",
   "pygments_lexer": "ipython3",
   "version": "3.6.7"
  }
 },
 "nbformat": 4,
 "nbformat_minor": 2
}
